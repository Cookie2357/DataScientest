{
 "cells": [
  {
   "attachments": {},
   "cell_type": "markdown",
   "metadata": {},
   "source": [
    "In this modul we will learn about scikit-learn. In particular about classification. One of the two main tasks of ML. \n",
    "\n",
    "Most Classification algorithms are making binary decisions. For multivalue classification we have two strategies 1v1 or 1vAll.\n",
    "\n",
    "The Object of prediction is called the 'label' the inputs are called 'features'"
   ]
  },
  {
   "attachments": {},
   "cell_type": "markdown",
   "metadata": {},
   "source": []
  }
 ],
 "metadata": {
  "language_info": {
   "name": "python"
  },
  "orig_nbformat": 4
 },
 "nbformat": 4,
 "nbformat_minor": 2
}
