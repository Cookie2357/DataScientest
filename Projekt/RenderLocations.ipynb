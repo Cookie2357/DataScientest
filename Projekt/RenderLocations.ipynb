{
 "cells": [
  {
   "cell_type": "code",
   "execution_count": 3,
   "metadata": {},
   "outputs": [],
   "source": [
    "file_read = open('locationsDegree.txt', 'r')\n",
    "file_write = open('locationsDegree_formatted.csv', 'w')\n",
    "\n",
    "for line in file_read: \n",
    "    splice = line.split(':')\n",
    "    splice[1] = splice[1].replace('(', \"\")\n",
    "    splice[1] = splice[1].replace(')', \"\")\n",
    "    file_write.writelines([splice[0] + \",\" +  splice[1]])\n",
    "\n",
    "file_write.close()\n",
    "file_read.close()\n"
   ]
  }
 ],
 "metadata": {
  "kernelspec": {
   "display_name": "base",
   "language": "python",
   "name": "python3"
  },
  "language_info": {
   "codemirror_mode": {
    "name": "ipython",
    "version": 3
   },
   "file_extension": ".py",
   "mimetype": "text/x-python",
   "name": "python",
   "nbconvert_exporter": "python",
   "pygments_lexer": "ipython3",
   "version": "3.9.13"
  },
  "orig_nbformat": 4
 },
 "nbformat": 4,
 "nbformat_minor": 2
}
