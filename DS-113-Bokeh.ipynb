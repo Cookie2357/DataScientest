{
 "cells": [
  {
   "cell_type": "code",
   "execution_count": 18,
   "metadata": {},
   "outputs": [
    {
     "data": {
      "text/html": [
       "<div class=\"bk-root\">\n",
       "        <a href=\"https://bokeh.org\" target=\"_blank\" class=\"bk-logo bk-logo-small bk-logo-notebook\"></a>\n",
       "        <span id=\"1991\">Loading BokehJS ...</span>\n",
       "    </div>\n"
      ]
     },
     "metadata": {},
     "output_type": "display_data"
    },
    {
     "data": {
      "application/javascript": "(function(root) {\n  function now() {\n    return new Date();\n  }\n\n  const force = true;\n\n  if (typeof root._bokeh_onload_callbacks === \"undefined\" || force === true) {\n    root._bokeh_onload_callbacks = [];\n    root._bokeh_is_loading = undefined;\n  }\n\nconst JS_MIME_TYPE = 'application/javascript';\n  const HTML_MIME_TYPE = 'text/html';\n  const EXEC_MIME_TYPE = 'application/vnd.bokehjs_exec.v0+json';\n  const CLASS_NAME = 'output_bokeh rendered_html';\n\n  /**\n   * Render data to the DOM node\n   */\n  function render(props, node) {\n    const script = document.createElement(\"script\");\n    node.appendChild(script);\n  }\n\n  /**\n   * Handle when an output is cleared or removed\n   */\n  function handleClearOutput(event, handle) {\n    const cell = handle.cell;\n\n    const id = cell.output_area._bokeh_element_id;\n    const server_id = cell.output_area._bokeh_server_id;\n    // Clean up Bokeh references\n    if (id != null && id in Bokeh.index) {\n      Bokeh.index[id].model.document.clear();\n      delete Bokeh.index[id];\n    }\n\n    if (server_id !== undefined) {\n      // Clean up Bokeh references\n      const cmd_clean = \"from bokeh.io.state import curstate; print(curstate().uuid_to_server['\" + server_id + \"'].get_sessions()[0].document.roots[0]._id)\";\n      cell.notebook.kernel.execute(cmd_clean, {\n        iopub: {\n          output: function(msg) {\n            const id = msg.content.text.trim();\n            if (id in Bokeh.index) {\n              Bokeh.index[id].model.document.clear();\n              delete Bokeh.index[id];\n            }\n          }\n        }\n      });\n      // Destroy server and session\n      const cmd_destroy = \"import bokeh.io.notebook as ion; ion.destroy_server('\" + server_id + \"')\";\n      cell.notebook.kernel.execute(cmd_destroy);\n    }\n  }\n\n  /**\n   * Handle when a new output is added\n   */\n  function handleAddOutput(event, handle) {\n    const output_area = handle.output_area;\n    const output = handle.output;\n\n    // limit handleAddOutput to display_data with EXEC_MIME_TYPE content only\n    if ((output.output_type != \"display_data\") || (!Object.prototype.hasOwnProperty.call(output.data, EXEC_MIME_TYPE))) {\n      return\n    }\n\n    const toinsert = output_area.element.find(\".\" + CLASS_NAME.split(' ')[0]);\n\n    if (output.metadata[EXEC_MIME_TYPE][\"id\"] !== undefined) {\n      toinsert[toinsert.length - 1].firstChild.textContent = output.data[JS_MIME_TYPE];\n      // store reference to embed id on output_area\n      output_area._bokeh_element_id = output.metadata[EXEC_MIME_TYPE][\"id\"];\n    }\n    if (output.metadata[EXEC_MIME_TYPE][\"server_id\"] !== undefined) {\n      const bk_div = document.createElement(\"div\");\n      bk_div.innerHTML = output.data[HTML_MIME_TYPE];\n      const script_attrs = bk_div.children[0].attributes;\n      for (let i = 0; i < script_attrs.length; i++) {\n        toinsert[toinsert.length - 1].firstChild.setAttribute(script_attrs[i].name, script_attrs[i].value);\n        toinsert[toinsert.length - 1].firstChild.textContent = bk_div.children[0].textContent\n      }\n      // store reference to server id on output_area\n      output_area._bokeh_server_id = output.metadata[EXEC_MIME_TYPE][\"server_id\"];\n    }\n  }\n\n  function register_renderer(events, OutputArea) {\n\n    function append_mime(data, metadata, element) {\n      // create a DOM node to render to\n      const toinsert = this.create_output_subarea(\n        metadata,\n        CLASS_NAME,\n        EXEC_MIME_TYPE\n      );\n      this.keyboard_manager.register_events(toinsert);\n      // Render to node\n      const props = {data: data, metadata: metadata[EXEC_MIME_TYPE]};\n      render(props, toinsert[toinsert.length - 1]);\n      element.append(toinsert);\n      return toinsert\n    }\n\n    /* Handle when an output is cleared or removed */\n    events.on('clear_output.CodeCell', handleClearOutput);\n    events.on('delete.Cell', handleClearOutput);\n\n    /* Handle when a new output is added */\n    events.on('output_added.OutputArea', handleAddOutput);\n\n    /**\n     * Register the mime type and append_mime function with output_area\n     */\n    OutputArea.prototype.register_mime_type(EXEC_MIME_TYPE, append_mime, {\n      /* Is output safe? */\n      safe: true,\n      /* Index of renderer in `output_area.display_order` */\n      index: 0\n    });\n  }\n\n  // register the mime type if in Jupyter Notebook environment and previously unregistered\n  if (root.Jupyter !== undefined) {\n    const events = require('base/js/events');\n    const OutputArea = require('notebook/js/outputarea').OutputArea;\n\n    if (OutputArea.prototype.mime_types().indexOf(EXEC_MIME_TYPE) == -1) {\n      register_renderer(events, OutputArea);\n    }\n  }\n  if (typeof (root._bokeh_timeout) === \"undefined\" || force === true) {\n    root._bokeh_timeout = Date.now() + 5000;\n    root._bokeh_failed_load = false;\n  }\n\n  const NB_LOAD_WARNING = {'data': {'text/html':\n     \"<div style='background-color: #fdd'>\\n\"+\n     \"<p>\\n\"+\n     \"BokehJS does not appear to have successfully loaded. If loading BokehJS from CDN, this \\n\"+\n     \"may be due to a slow or bad network connection. Possible fixes:\\n\"+\n     \"</p>\\n\"+\n     \"<ul>\\n\"+\n     \"<li>re-rerun `output_notebook()` to attempt to load from CDN again, or</li>\\n\"+\n     \"<li>use INLINE resources instead, as so:</li>\\n\"+\n     \"</ul>\\n\"+\n     \"<code>\\n\"+\n     \"from bokeh.resources import INLINE\\n\"+\n     \"output_notebook(resources=INLINE)\\n\"+\n     \"</code>\\n\"+\n     \"</div>\"}};\n\n  function display_loaded() {\n    const el = document.getElementById(\"1991\");\n    if (el != null) {\n      el.textContent = \"BokehJS is loading...\";\n    }\n    if (root.Bokeh !== undefined) {\n      if (el != null) {\n        el.textContent = \"BokehJS \" + root.Bokeh.version + \" successfully loaded.\";\n      }\n    } else if (Date.now() < root._bokeh_timeout) {\n      setTimeout(display_loaded, 100)\n    }\n  }\n\n  function run_callbacks() {\n    try {\n      root._bokeh_onload_callbacks.forEach(function(callback) {\n        if (callback != null)\n          callback();\n      });\n    } finally {\n      delete root._bokeh_onload_callbacks\n    }\n    console.debug(\"Bokeh: all callbacks have finished\");\n  }\n\n  function load_libs(css_urls, js_urls, callback) {\n    if (css_urls == null) css_urls = [];\n    if (js_urls == null) js_urls = [];\n\n    root._bokeh_onload_callbacks.push(callback);\n    if (root._bokeh_is_loading > 0) {\n      console.debug(\"Bokeh: BokehJS is being loaded, scheduling callback at\", now());\n      return null;\n    }\n    if (js_urls == null || js_urls.length === 0) {\n      run_callbacks();\n      return null;\n    }\n    console.debug(\"Bokeh: BokehJS not loaded, scheduling load and callback at\", now());\n    root._bokeh_is_loading = css_urls.length + js_urls.length;\n\n    function on_load() {\n      root._bokeh_is_loading--;\n      if (root._bokeh_is_loading === 0) {\n        console.debug(\"Bokeh: all BokehJS libraries/stylesheets loaded\");\n        run_callbacks()\n      }\n    }\n\n    function on_error(url) {\n      console.error(\"failed to load \" + url);\n    }\n\n    for (let i = 0; i < css_urls.length; i++) {\n      const url = css_urls[i];\n      const element = document.createElement(\"link\");\n      element.onload = on_load;\n      element.onerror = on_error.bind(null, url);\n      element.rel = \"stylesheet\";\n      element.type = \"text/css\";\n      element.href = url;\n      console.debug(\"Bokeh: injecting link tag for BokehJS stylesheet: \", url);\n      document.body.appendChild(element);\n    }\n\n    for (let i = 0; i < js_urls.length; i++) {\n      const url = js_urls[i];\n      const element = document.createElement('script');\n      element.onload = on_load;\n      element.onerror = on_error.bind(null, url);\n      element.async = false;\n      element.src = url;\n      console.debug(\"Bokeh: injecting script tag for BokehJS library: \", url);\n      document.head.appendChild(element);\n    }\n  };\n\n  function inject_raw_css(css) {\n    const element = document.createElement(\"style\");\n    element.appendChild(document.createTextNode(css));\n    document.body.appendChild(element);\n  }\n\n  const js_urls = [\"https://cdn.bokeh.org/bokeh/release/bokeh-2.4.3.min.js\", \"https://cdn.bokeh.org/bokeh/release/bokeh-gl-2.4.3.min.js\", \"https://cdn.bokeh.org/bokeh/release/bokeh-widgets-2.4.3.min.js\", \"https://cdn.bokeh.org/bokeh/release/bokeh-tables-2.4.3.min.js\", \"https://cdn.bokeh.org/bokeh/release/bokeh-mathjax-2.4.3.min.js\"];\n  const css_urls = [];\n\n  const inline_js = [    function(Bokeh) {\n      Bokeh.set_log_level(\"info\");\n    },\nfunction(Bokeh) {\n    }\n  ];\n\n  function run_inline_js() {\n    if (root.Bokeh !== undefined || force === true) {\n          for (let i = 0; i < inline_js.length; i++) {\n      inline_js[i].call(root, root.Bokeh);\n    }\nif (force === true) {\n        display_loaded();\n      }} else if (Date.now() < root._bokeh_timeout) {\n      setTimeout(run_inline_js, 100);\n    } else if (!root._bokeh_failed_load) {\n      console.log(\"Bokeh: BokehJS failed to load within specified timeout.\");\n      root._bokeh_failed_load = true;\n    } else if (force !== true) {\n      const cell = $(document.getElementById(\"1991\")).parents('.cell').data().cell;\n      cell.output_area.append_execute_result(NB_LOAD_WARNING)\n    }\n  }\n\n  if (root._bokeh_is_loading === 0) {\n    console.debug(\"Bokeh: BokehJS loaded, going straight to plotting\");\n    run_inline_js();\n  } else {\n    load_libs(css_urls, js_urls, function() {\n      console.debug(\"Bokeh: BokehJS plotting callback run at\", now());\n      run_inline_js();\n    });\n  }\n}(window));",
      "application/vnd.bokehjs_load.v0+json": ""
     },
     "metadata": {},
     "output_type": "display_data"
    }
   ],
   "source": [
    "from bokeh.plotting import figure, show, output_notebook\n",
    "from bokeh.models.tools import HoverTool\n",
    "output_notebook()\n",
    "\n",
    "from numpy import linspace\n",
    "from numpy.random import randint"
   ]
  },
  {
   "cell_type": "code",
   "execution_count": 7,
   "metadata": {},
   "outputs": [],
   "source": [
    "x = linspace(0, 10, 50)\n",
    "y = randint(0, 100, 50)"
   ]
  },
  {
   "cell_type": "code",
   "execution_count": 20,
   "metadata": {},
   "outputs": [
    {
     "name": "stderr",
     "output_type": "stream",
     "text": [
      "BokehDeprecationWarning: 'legend' keyword is deprecated, use explicit 'legend_label', 'legend_field', or 'legend_group' keywords instead\n"
     ]
    },
    {
     "data": {
      "text/html": [
       "\n",
       "  <div class=\"bk-root\" id=\"a2df5b88-1b33-4101-8bc1-c48409a5c038\" data-root-id=\"2045\"></div>\n"
      ]
     },
     "metadata": {},
     "output_type": "display_data"
    },
    {
     "data": {
      "application/javascript": "(function(root) {\n  function embed_document(root) {\n  const docs_json = {\"cd5b1df4-97eb-43e3-8473-a73fb13539f7\":{\"defs\":[],\"roots\":{\"references\":[{\"attributes\":{\"below\":[{\"id\":\"2056\"}],\"center\":[{\"id\":\"2059\"},{\"id\":\"2063\"},{\"id\":\"2095\"}],\"height\":400,\"left\":[{\"id\":\"2060\"}],\"renderers\":[{\"id\":\"2083\"}],\"title\":{\"id\":\"2046\"},\"toolbar\":{\"id\":\"2071\"},\"x_range\":{\"id\":\"2048\"},\"x_scale\":{\"id\":\"2052\"},\"y_range\":{\"id\":\"2050\"},\"y_scale\":{\"id\":\"2054\"}},\"id\":\"2045\",\"subtype\":\"Figure\",\"type\":\"Plot\"},{\"attributes\":{},\"id\":\"2054\",\"type\":\"LinearScale\"},{\"attributes\":{},\"id\":\"2069\",\"type\":\"HelpTool\"},{\"attributes\":{},\"id\":\"2052\",\"type\":\"LinearScale\"},{\"attributes\":{},\"id\":\"2065\",\"type\":\"WheelZoomTool\"},{\"attributes\":{},\"id\":\"2092\",\"type\":\"UnionRenderers\"},{\"attributes\":{\"overlay\":{\"id\":\"2070\"}},\"id\":\"2066\",\"type\":\"BoxZoomTool\"},{\"attributes\":{\"coordinates\":null,\"group\":null,\"items\":[{\"id\":\"2096\"}]},\"id\":\"2095\",\"type\":\"Legend\"},{\"attributes\":{},\"id\":\"2067\",\"type\":\"SaveTool\"},{\"attributes\":{},\"id\":\"2090\",\"type\":\"BasicTickFormatter\"},{\"attributes\":{},\"id\":\"2068\",\"type\":\"ResetTool\"},{\"attributes\":{\"data\":{\"x\":{\"__ndarray__\":\"AAAAAAAAAACIxvrQWB/KP4jG+tBYH9o/5hS8nIKX4z+IxvrQWB/qPxW8nIKXU/A/5hS8nIKX8z+3bdu2bdv2P4jG+tBYH/o/WR8a60Nj/T8VvJyCl1MAQH5orA+N9QFA5hS8nIKXA0BOwcspeDkFQLdt27Zt2wZAIBrrQ2N9CECIxvrQWB8KQPByCl5OwQtAWR8a60NjDUDCyyl4OQUPQBW8nIKXUxBASZIkSZIkEUB+aKwPjfURQLI+NNaHxhJA5hS8nIKXE0Aa60NjfWgUQE7Byyl4ORVAg5dT8HIKFkC3bdu2bdsWQOtDY31orBdAIBrrQ2N9GEBU8HIKXk4ZQIjG+tBYHxpAvJyCl1PwGkDwcgpeTsEbQCVJkiRJkhxAWR8a60NjHUCN9aGxPjQeQMLLKXg5BR9A9qGxPjTWH0AVvJyCl1MgQC+n4OUUvCBASZIkSZIkIUBjfWisD40hQH5orA+N9SFAmFPwcgpeIkCyPjTWh8YiQMwpeDkFLyNA5hS8nIKXI0AAAAAAAAAkQA==\",\"dtype\":\"float64\",\"order\":\"little\",\"shape\":[50]},\"y\":[11,54,27,10,90,80,69,87,70,85,80,73,28,17,9,76,43,78,27,6,96,43,25,91,86,18,86,89,11,63,35,8,54,58,86,5,47,83,45,46,7,69,87,42,46,89,80,56,41,77]},\"selected\":{\"id\":\"2093\"},\"selection_policy\":{\"id\":\"2092\"}},\"id\":\"2078\",\"type\":\"ColumnDataSource\"},{\"attributes\":{},\"id\":\"2093\",\"type\":\"Selection\"},{\"attributes\":{\"bottom_units\":\"screen\",\"coordinates\":null,\"fill_alpha\":0.5,\"fill_color\":\"lightgrey\",\"group\":null,\"left_units\":\"screen\",\"level\":\"overlay\",\"line_alpha\":1.0,\"line_color\":\"black\",\"line_dash\":[4,4],\"line_width\":2,\"right_units\":\"screen\",\"syncable\":false,\"top_units\":\"screen\"},\"id\":\"2070\",\"type\":\"BoxAnnotation\"},{\"attributes\":{\"fill_alpha\":{\"value\":0.2},\"fill_color\":{\"value\":\"mediumblue\"},\"hatch_alpha\":{\"value\":0.2},\"hatch_color\":{\"value\":\"mediumblue\"},\"line_alpha\":{\"value\":0.2},\"line_color\":{\"value\":\"mediumblue\"},\"marker\":{\"value\":\"square\"},\"size\":{\"value\":5},\"x\":{\"field\":\"x\"},\"y\":{\"field\":\"y\"}},\"id\":\"2082\",\"type\":\"Scatter\"},{\"attributes\":{\"fill_color\":{\"value\":\"olive\"},\"hatch_color\":{\"value\":\"olive\"},\"line_color\":{\"value\":\"olive\"},\"marker\":{\"value\":\"square\"},\"size\":{\"value\":5},\"x\":{\"field\":\"x\"},\"y\":{\"field\":\"y\"}},\"id\":\"2081\",\"type\":\"Scatter\"},{\"attributes\":{\"tools\":[{\"id\":\"2064\"},{\"id\":\"2065\"},{\"id\":\"2066\"},{\"id\":\"2067\"},{\"id\":\"2068\"},{\"id\":\"2069\"},{\"id\":\"2097\"}]},\"id\":\"2071\",\"type\":\"Toolbar\"},{\"attributes\":{\"axis_label\":\"abscissa\",\"axis_line_color\":\"navy\",\"axis_line_width\":3,\"coordinates\":null,\"formatter\":{\"id\":\"2090\"},\"group\":null,\"major_label_policy\":{\"id\":\"2091\"},\"major_label_text_color\":\"gold\",\"ticker\":{\"id\":\"2057\"}},\"id\":\"2056\",\"type\":\"LinearAxis\"},{\"attributes\":{\"callback\":null,\"renderers\":[{\"id\":\"2083\"}],\"tooltips\":[[\"(x, y)\",\"($x, $y)\"]]},\"id\":\"2097\",\"type\":\"HoverTool\"},{\"attributes\":{\"label\":{\"value\":\"cute o\"},\"renderers\":[{\"id\":\"2083\"}]},\"id\":\"2096\",\"type\":\"LegendItem\"},{\"attributes\":{\"axis_line_color\":\"navy\",\"axis_line_width\":3,\"coordinates\":null,\"formatter\":{\"id\":\"2087\"},\"group\":null,\"major_label_policy\":{\"id\":\"2088\"},\"major_label_text_color\":\"gold\",\"ticker\":{\"id\":\"2061\"}},\"id\":\"2060\",\"type\":\"LinearAxis\"},{\"attributes\":{\"fill_alpha\":{\"value\":0.1},\"fill_color\":{\"value\":\"mediumblue\"},\"hatch_alpha\":{\"value\":0.1},\"hatch_color\":{\"value\":\"mediumblue\"},\"line_alpha\":{\"value\":0.1},\"line_color\":{\"value\":\"mediumblue\"},\"marker\":{\"value\":\"square\"},\"size\":{\"value\":5},\"x\":{\"field\":\"x\"},\"y\":{\"field\":\"y\"}},\"id\":\"2080\",\"type\":\"Scatter\"},{\"attributes\":{\"coordinates\":null,\"data_source\":{\"id\":\"2078\"},\"glyph\":{\"id\":\"2079\"},\"group\":null,\"hover_glyph\":{\"id\":\"2081\"},\"muted_glyph\":{\"id\":\"2082\"},\"nonselection_glyph\":{\"id\":\"2080\"},\"view\":{\"id\":\"2084\"}},\"id\":\"2083\",\"type\":\"GlyphRenderer\"},{\"attributes\":{\"fill_color\":{\"value\":\"mediumblue\"},\"hatch_color\":{\"value\":\"mediumblue\"},\"line_color\":{\"value\":\"mediumblue\"},\"marker\":{\"value\":\"square\"},\"size\":{\"value\":5},\"x\":{\"field\":\"x\"},\"y\":{\"field\":\"y\"}},\"id\":\"2079\",\"type\":\"Scatter\"},{\"attributes\":{\"source\":{\"id\":\"2078\"}},\"id\":\"2084\",\"type\":\"CDSView\"},{\"attributes\":{},\"id\":\"2057\",\"type\":\"BasicTicker\"},{\"attributes\":{\"axis\":{\"id\":\"2060\"},\"coordinates\":null,\"dimension\":1,\"grid_line_alpha\":0,\"group\":null,\"ticker\":null},\"id\":\"2063\",\"type\":\"Grid\"},{\"attributes\":{},\"id\":\"2091\",\"type\":\"AllLabels\"},{\"attributes\":{},\"id\":\"2050\",\"type\":\"DataRange1d\"},{\"attributes\":{},\"id\":\"2061\",\"type\":\"BasicTicker\"},{\"attributes\":{},\"id\":\"2064\",\"type\":\"PanTool\"},{\"attributes\":{},\"id\":\"2087\",\"type\":\"BasicTickFormatter\"},{\"attributes\":{\"axis\":{\"id\":\"2056\"},\"coordinates\":null,\"grid_line_alpha\":0,\"group\":null,\"ticker\":null},\"id\":\"2059\",\"type\":\"Grid\"},{\"attributes\":{},\"id\":\"2088\",\"type\":\"AllLabels\"},{\"attributes\":{\"coordinates\":null,\"group\":null,\"text\":\" My cute Figure\"},\"id\":\"2046\",\"type\":\"Title\"},{\"attributes\":{},\"id\":\"2048\",\"type\":\"DataRange1d\"}],\"root_ids\":[\"2045\"]},\"title\":\"Bokeh Application\",\"version\":\"2.4.3\"}};\n  const render_items = [{\"docid\":\"cd5b1df4-97eb-43e3-8473-a73fb13539f7\",\"root_ids\":[\"2045\"],\"roots\":{\"2045\":\"a2df5b88-1b33-4101-8bc1-c48409a5c038\"}}];\n  root.Bokeh.embed.embed_items_notebook(docs_json, render_items);\n  }\n  if (root.Bokeh !== undefined) {\n    embed_document(root);\n  } else {\n    let attempts = 0;\n    const timer = setInterval(function(root) {\n      if (root.Bokeh !== undefined) {\n        clearInterval(timer);\n        embed_document(root);\n      } else {\n        attempts++;\n        if (attempts > 100) {\n          clearInterval(timer);\n          console.log(\"Bokeh: ERROR: Unable to run BokehJS code because BokehJS library is missing\");\n        }\n      }\n    }, 10, root)\n  }\n})(window);",
      "application/vnd.bokehjs_exec.v0+json": ""
     },
     "metadata": {
      "application/vnd.bokehjs_exec.v0+json": {
       "id": "2045"
      }
     },
     "output_type": "display_data"
    }
   ],
   "source": [
    "fig = figure(plot_height = 400, plot_width = 600, title =' My cute Figure')\n",
    "\n",
    "rend = fig.square(x, y,\n",
    "                   color = 'mediumblue',\n",
    "                   legend = 'cute o',\n",
    "                   size = 5, \n",
    "                   hover_color = 'olive', \n",
    "                   )\n",
    "\n",
    "hover = HoverTool(renderers = [rend], tooltips = [( \"(x, y)\", \"($x, $y)\")])\n",
    "\n",
    "fig.axis.axis_line_width = 3\n",
    "fig.axis.axis_line_color = 'navy'\n",
    "fig.axis.major_label_text_color = 'gold'\n",
    "fig.xaxis.axis_label = 'abscissa'\n",
    "\n",
    "fig.grid.grid_line_alpha = 0\n",
    "\n",
    "fig.add_tools(hover)\n",
    "show(fig)"
   ]
  },
  {
   "cell_type": "code",
   "execution_count": 17,
   "metadata": {},
   "outputs": [
    {
     "data": {
      "text/html": [
       "<div class=\"bk-root\">\n",
       "        <a href=\"https://bokeh.org\" target=\"_blank\" class=\"bk-logo bk-logo-small bk-logo-notebook\"></a>\n",
       "        <span id=\"2369\">Loading BokehJS ...</span>\n",
       "    </div>\n"
      ]
     },
     "metadata": {},
     "output_type": "display_data"
    },
    {
     "data": {
      "application/javascript": "(function(root) {\n  function now() {\n    return new Date();\n  }\n\n  const force = true;\n\n  if (typeof root._bokeh_onload_callbacks === \"undefined\" || force === true) {\n    root._bokeh_onload_callbacks = [];\n    root._bokeh_is_loading = undefined;\n  }\n\nconst JS_MIME_TYPE = 'application/javascript';\n  const HTML_MIME_TYPE = 'text/html';\n  const EXEC_MIME_TYPE = 'application/vnd.bokehjs_exec.v0+json';\n  const CLASS_NAME = 'output_bokeh rendered_html';\n\n  /**\n   * Render data to the DOM node\n   */\n  function render(props, node) {\n    const script = document.createElement(\"script\");\n    node.appendChild(script);\n  }\n\n  /**\n   * Handle when an output is cleared or removed\n   */\n  function handleClearOutput(event, handle) {\n    const cell = handle.cell;\n\n    const id = cell.output_area._bokeh_element_id;\n    const server_id = cell.output_area._bokeh_server_id;\n    // Clean up Bokeh references\n    if (id != null && id in Bokeh.index) {\n      Bokeh.index[id].model.document.clear();\n      delete Bokeh.index[id];\n    }\n\n    if (server_id !== undefined) {\n      // Clean up Bokeh references\n      const cmd_clean = \"from bokeh.io.state import curstate; print(curstate().uuid_to_server['\" + server_id + \"'].get_sessions()[0].document.roots[0]._id)\";\n      cell.notebook.kernel.execute(cmd_clean, {\n        iopub: {\n          output: function(msg) {\n            const id = msg.content.text.trim();\n            if (id in Bokeh.index) {\n              Bokeh.index[id].model.document.clear();\n              delete Bokeh.index[id];\n            }\n          }\n        }\n      });\n      // Destroy server and session\n      const cmd_destroy = \"import bokeh.io.notebook as ion; ion.destroy_server('\" + server_id + \"')\";\n      cell.notebook.kernel.execute(cmd_destroy);\n    }\n  }\n\n  /**\n   * Handle when a new output is added\n   */\n  function handleAddOutput(event, handle) {\n    const output_area = handle.output_area;\n    const output = handle.output;\n\n    // limit handleAddOutput to display_data with EXEC_MIME_TYPE content only\n    if ((output.output_type != \"display_data\") || (!Object.prototype.hasOwnProperty.call(output.data, EXEC_MIME_TYPE))) {\n      return\n    }\n\n    const toinsert = output_area.element.find(\".\" + CLASS_NAME.split(' ')[0]);\n\n    if (output.metadata[EXEC_MIME_TYPE][\"id\"] !== undefined) {\n      toinsert[toinsert.length - 1].firstChild.textContent = output.data[JS_MIME_TYPE];\n      // store reference to embed id on output_area\n      output_area._bokeh_element_id = output.metadata[EXEC_MIME_TYPE][\"id\"];\n    }\n    if (output.metadata[EXEC_MIME_TYPE][\"server_id\"] !== undefined) {\n      const bk_div = document.createElement(\"div\");\n      bk_div.innerHTML = output.data[HTML_MIME_TYPE];\n      const script_attrs = bk_div.children[0].attributes;\n      for (let i = 0; i < script_attrs.length; i++) {\n        toinsert[toinsert.length - 1].firstChild.setAttribute(script_attrs[i].name, script_attrs[i].value);\n        toinsert[toinsert.length - 1].firstChild.textContent = bk_div.children[0].textContent\n      }\n      // store reference to server id on output_area\n      output_area._bokeh_server_id = output.metadata[EXEC_MIME_TYPE][\"server_id\"];\n    }\n  }\n\n  function register_renderer(events, OutputArea) {\n\n    function append_mime(data, metadata, element) {\n      // create a DOM node to render to\n      const toinsert = this.create_output_subarea(\n        metadata,\n        CLASS_NAME,\n        EXEC_MIME_TYPE\n      );\n      this.keyboard_manager.register_events(toinsert);\n      // Render to node\n      const props = {data: data, metadata: metadata[EXEC_MIME_TYPE]};\n      render(props, toinsert[toinsert.length - 1]);\n      element.append(toinsert);\n      return toinsert\n    }\n\n    /* Handle when an output is cleared or removed */\n    events.on('clear_output.CodeCell', handleClearOutput);\n    events.on('delete.Cell', handleClearOutput);\n\n    /* Handle when a new output is added */\n    events.on('output_added.OutputArea', handleAddOutput);\n\n    /**\n     * Register the mime type and append_mime function with output_area\n     */\n    OutputArea.prototype.register_mime_type(EXEC_MIME_TYPE, append_mime, {\n      /* Is output safe? */\n      safe: true,\n      /* Index of renderer in `output_area.display_order` */\n      index: 0\n    });\n  }\n\n  // register the mime type if in Jupyter Notebook environment and previously unregistered\n  if (root.Jupyter !== undefined) {\n    const events = require('base/js/events');\n    const OutputArea = require('notebook/js/outputarea').OutputArea;\n\n    if (OutputArea.prototype.mime_types().indexOf(EXEC_MIME_TYPE) == -1) {\n      register_renderer(events, OutputArea);\n    }\n  }\n  if (typeof (root._bokeh_timeout) === \"undefined\" || force === true) {\n    root._bokeh_timeout = Date.now() + 5000;\n    root._bokeh_failed_load = false;\n  }\n\n  const NB_LOAD_WARNING = {'data': {'text/html':\n     \"<div style='background-color: #fdd'>\\n\"+\n     \"<p>\\n\"+\n     \"BokehJS does not appear to have successfully loaded. If loading BokehJS from CDN, this \\n\"+\n     \"may be due to a slow or bad network connection. Possible fixes:\\n\"+\n     \"</p>\\n\"+\n     \"<ul>\\n\"+\n     \"<li>re-rerun `output_notebook()` to attempt to load from CDN again, or</li>\\n\"+\n     \"<li>use INLINE resources instead, as so:</li>\\n\"+\n     \"</ul>\\n\"+\n     \"<code>\\n\"+\n     \"from bokeh.resources import INLINE\\n\"+\n     \"output_notebook(resources=INLINE)\\n\"+\n     \"</code>\\n\"+\n     \"</div>\"}};\n\n  function display_loaded() {\n    const el = document.getElementById(\"2369\");\n    if (el != null) {\n      el.textContent = \"BokehJS is loading...\";\n    }\n    if (root.Bokeh !== undefined) {\n      if (el != null) {\n        el.textContent = \"BokehJS \" + root.Bokeh.version + \" successfully loaded.\";\n      }\n    } else if (Date.now() < root._bokeh_timeout) {\n      setTimeout(display_loaded, 100)\n    }\n  }\n\n  function run_callbacks() {\n    try {\n      root._bokeh_onload_callbacks.forEach(function(callback) {\n        if (callback != null)\n          callback();\n      });\n    } finally {\n      delete root._bokeh_onload_callbacks\n    }\n    console.debug(\"Bokeh: all callbacks have finished\");\n  }\n\n  function load_libs(css_urls, js_urls, callback) {\n    if (css_urls == null) css_urls = [];\n    if (js_urls == null) js_urls = [];\n\n    root._bokeh_onload_callbacks.push(callback);\n    if (root._bokeh_is_loading > 0) {\n      console.debug(\"Bokeh: BokehJS is being loaded, scheduling callback at\", now());\n      return null;\n    }\n    if (js_urls == null || js_urls.length === 0) {\n      run_callbacks();\n      return null;\n    }\n    console.debug(\"Bokeh: BokehJS not loaded, scheduling load and callback at\", now());\n    root._bokeh_is_loading = css_urls.length + js_urls.length;\n\n    function on_load() {\n      root._bokeh_is_loading--;\n      if (root._bokeh_is_loading === 0) {\n        console.debug(\"Bokeh: all BokehJS libraries/stylesheets loaded\");\n        run_callbacks()\n      }\n    }\n\n    function on_error(url) {\n      console.error(\"failed to load \" + url);\n    }\n\n    for (let i = 0; i < css_urls.length; i++) {\n      const url = css_urls[i];\n      const element = document.createElement(\"link\");\n      element.onload = on_load;\n      element.onerror = on_error.bind(null, url);\n      element.rel = \"stylesheet\";\n      element.type = \"text/css\";\n      element.href = url;\n      console.debug(\"Bokeh: injecting link tag for BokehJS stylesheet: \", url);\n      document.body.appendChild(element);\n    }\n\n    for (let i = 0; i < js_urls.length; i++) {\n      const url = js_urls[i];\n      const element = document.createElement('script');\n      element.onload = on_load;\n      element.onerror = on_error.bind(null, url);\n      element.async = false;\n      element.src = url;\n      console.debug(\"Bokeh: injecting script tag for BokehJS library: \", url);\n      document.head.appendChild(element);\n    }\n  };\n\n  function inject_raw_css(css) {\n    const element = document.createElement(\"style\");\n    element.appendChild(document.createTextNode(css));\n    document.body.appendChild(element);\n  }\n\n  const js_urls = [\"https://cdn.bokeh.org/bokeh/release/bokeh-2.4.3.min.js\", \"https://cdn.bokeh.org/bokeh/release/bokeh-gl-2.4.3.min.js\", \"https://cdn.bokeh.org/bokeh/release/bokeh-widgets-2.4.3.min.js\", \"https://cdn.bokeh.org/bokeh/release/bokeh-tables-2.4.3.min.js\", \"https://cdn.bokeh.org/bokeh/release/bokeh-mathjax-2.4.3.min.js\"];\n  const css_urls = [];\n\n  const inline_js = [    function(Bokeh) {\n      Bokeh.set_log_level(\"info\");\n    },\nfunction(Bokeh) {\n    }\n  ];\n\n  function run_inline_js() {\n    if (root.Bokeh !== undefined || force === true) {\n          for (let i = 0; i < inline_js.length; i++) {\n      inline_js[i].call(root, root.Bokeh);\n    }\nif (force === true) {\n        display_loaded();\n      }} else if (Date.now() < root._bokeh_timeout) {\n      setTimeout(run_inline_js, 100);\n    } else if (!root._bokeh_failed_load) {\n      console.log(\"Bokeh: BokehJS failed to load within specified timeout.\");\n      root._bokeh_failed_load = true;\n    } else if (force !== true) {\n      const cell = $(document.getElementById(\"2369\")).parents('.cell').data().cell;\n      cell.output_area.append_execute_result(NB_LOAD_WARNING)\n    }\n  }\n\n  if (root._bokeh_is_loading === 0) {\n    console.debug(\"Bokeh: BokehJS loaded, going straight to plotting\");\n    run_inline_js();\n  } else {\n    load_libs(css_urls, js_urls, function() {\n      console.debug(\"Bokeh: BokehJS plotting callback run at\", now());\n      run_inline_js();\n    });\n  }\n}(window));",
      "application/vnd.bokehjs_load.v0+json": ""
     },
     "metadata": {},
     "output_type": "display_data"
    },
    {
     "data": {
      "text/html": [
       "<div>\n",
       "<style scoped>\n",
       "    .dataframe tbody tr th:only-of-type {\n",
       "        vertical-align: middle;\n",
       "    }\n",
       "\n",
       "    .dataframe tbody tr th {\n",
       "        vertical-align: top;\n",
       "    }\n",
       "\n",
       "    .dataframe thead th {\n",
       "        text-align: right;\n",
       "    }\n",
       "</style>\n",
       "<table border=\"1\" class=\"dataframe\">\n",
       "  <thead>\n",
       "    <tr style=\"text-align: right;\">\n",
       "      <th></th>\n",
       "      <th>#</th>\n",
       "      <th>Name</th>\n",
       "      <th>Type 1</th>\n",
       "      <th>Type 2</th>\n",
       "      <th>Total</th>\n",
       "      <th>HP</th>\n",
       "      <th>Attack</th>\n",
       "      <th>Defense</th>\n",
       "      <th>Sp. Atk</th>\n",
       "      <th>Sp. Def</th>\n",
       "      <th>Speed</th>\n",
       "      <th>Generation</th>\n",
       "      <th>Legendary</th>\n",
       "    </tr>\n",
       "  </thead>\n",
       "  <tbody>\n",
       "    <tr>\n",
       "      <th>0</th>\n",
       "      <td>1</td>\n",
       "      <td>Bulbasaur</td>\n",
       "      <td>Grass</td>\n",
       "      <td>Poison</td>\n",
       "      <td>318</td>\n",
       "      <td>45</td>\n",
       "      <td>49</td>\n",
       "      <td>49</td>\n",
       "      <td>65</td>\n",
       "      <td>65</td>\n",
       "      <td>45</td>\n",
       "      <td>1</td>\n",
       "      <td>False</td>\n",
       "    </tr>\n",
       "    <tr>\n",
       "      <th>1</th>\n",
       "      <td>2</td>\n",
       "      <td>Ivysaur</td>\n",
       "      <td>Grass</td>\n",
       "      <td>Poison</td>\n",
       "      <td>405</td>\n",
       "      <td>60</td>\n",
       "      <td>62</td>\n",
       "      <td>63</td>\n",
       "      <td>80</td>\n",
       "      <td>80</td>\n",
       "      <td>60</td>\n",
       "      <td>1</td>\n",
       "      <td>False</td>\n",
       "    </tr>\n",
       "    <tr>\n",
       "      <th>2</th>\n",
       "      <td>3</td>\n",
       "      <td>Venusaur</td>\n",
       "      <td>Grass</td>\n",
       "      <td>Poison</td>\n",
       "      <td>525</td>\n",
       "      <td>80</td>\n",
       "      <td>82</td>\n",
       "      <td>83</td>\n",
       "      <td>100</td>\n",
       "      <td>100</td>\n",
       "      <td>80</td>\n",
       "      <td>1</td>\n",
       "      <td>False</td>\n",
       "    </tr>\n",
       "    <tr>\n",
       "      <th>3</th>\n",
       "      <td>3</td>\n",
       "      <td>VenusaurMega Venusaur</td>\n",
       "      <td>Grass</td>\n",
       "      <td>Poison</td>\n",
       "      <td>625</td>\n",
       "      <td>80</td>\n",
       "      <td>100</td>\n",
       "      <td>123</td>\n",
       "      <td>122</td>\n",
       "      <td>120</td>\n",
       "      <td>80</td>\n",
       "      <td>1</td>\n",
       "      <td>False</td>\n",
       "    </tr>\n",
       "    <tr>\n",
       "      <th>4</th>\n",
       "      <td>4</td>\n",
       "      <td>Charmander</td>\n",
       "      <td>Fire</td>\n",
       "      <td>NaN</td>\n",
       "      <td>309</td>\n",
       "      <td>39</td>\n",
       "      <td>52</td>\n",
       "      <td>43</td>\n",
       "      <td>60</td>\n",
       "      <td>50</td>\n",
       "      <td>65</td>\n",
       "      <td>1</td>\n",
       "      <td>False</td>\n",
       "    </tr>\n",
       "  </tbody>\n",
       "</table>\n",
       "</div>"
      ],
      "text/plain": [
       "   #                   Name Type 1  Type 2  Total  HP  Attack  Defense  \\\n",
       "0  1              Bulbasaur  Grass  Poison    318  45      49       49   \n",
       "1  2                Ivysaur  Grass  Poison    405  60      62       63   \n",
       "2  3               Venusaur  Grass  Poison    525  80      82       83   \n",
       "3  3  VenusaurMega Venusaur  Grass  Poison    625  80     100      123   \n",
       "4  4             Charmander   Fire     NaN    309  39      52       43   \n",
       "\n",
       "   Sp. Atk  Sp. Def  Speed  Generation  Legendary  \n",
       "0       65       65     45           1      False  \n",
       "1       80       80     60           1      False  \n",
       "2      100      100     80           1      False  \n",
       "3      122      120     80           1      False  \n",
       "4       60       50     65           1      False  "
      ]
     },
     "execution_count": 17,
     "metadata": {},
     "output_type": "execute_result"
    }
   ],
   "source": [
    "\"\"\" The Pokemon Example \"\"\"\n",
    "from bokeh.plotting import figure\n",
    "from bokeh.io import  push_notebook,output_notebook, show\n",
    "output_notebook()\n",
    "\n",
    "import numpy as np\n",
    "import pandas as pd\n",
    "\n",
    "df = pd.read_csv('pokemon.csv')\n",
    "df.head()\n",
    "\n"
   ]
  },
  {
   "cell_type": "code",
   "execution_count": 28,
   "metadata": {},
   "outputs": [
    {
     "name": "stderr",
     "output_type": "stream",
     "text": [
      "/var/folders/xr/ytwr7jhd2xnbvvd11spm3cth0000gn/T/ipykernel_98011/1392342560.py:12: SettingWithCopyWarning: \n",
      "A value is trying to be set on a copy of a slice from a DataFrame.\n",
      "Try using .loc[row_indexer,col_indexer] = value instead\n",
      "\n",
      "See the caveats in the documentation: https://pandas.pydata.org/pandas-docs/stable/user_guide/indexing.html#returning-a-view-versus-a-copy\n",
      "  df_some.loc[:, 'color'] = df_some['Type 1'].apply(color_)\n"
     ]
    },
    {
     "data": {
      "text/html": [
       "<div>\n",
       "<style scoped>\n",
       "    .dataframe tbody tr th:only-of-type {\n",
       "        vertical-align: middle;\n",
       "    }\n",
       "\n",
       "    .dataframe tbody tr th {\n",
       "        vertical-align: top;\n",
       "    }\n",
       "\n",
       "    .dataframe thead th {\n",
       "        text-align: right;\n",
       "    }\n",
       "</style>\n",
       "<table border=\"1\" class=\"dataframe\">\n",
       "  <thead>\n",
       "    <tr style=\"text-align: right;\">\n",
       "      <th></th>\n",
       "      <th>#</th>\n",
       "      <th>Name</th>\n",
       "      <th>Type 1</th>\n",
       "      <th>Type 2</th>\n",
       "      <th>Total</th>\n",
       "      <th>HP</th>\n",
       "      <th>Attack</th>\n",
       "      <th>Defense</th>\n",
       "      <th>Sp. Atk</th>\n",
       "      <th>Sp. Def</th>\n",
       "      <th>Speed</th>\n",
       "      <th>Generation</th>\n",
       "      <th>Legendary</th>\n",
       "      <th>color</th>\n",
       "    </tr>\n",
       "  </thead>\n",
       "  <tbody>\n",
       "    <tr>\n",
       "      <th>0</th>\n",
       "      <td>1</td>\n",
       "      <td>Bulbasaur</td>\n",
       "      <td>Grass</td>\n",
       "      <td>Poison</td>\n",
       "      <td>318</td>\n",
       "      <td>45</td>\n",
       "      <td>49</td>\n",
       "      <td>49</td>\n",
       "      <td>65</td>\n",
       "      <td>65</td>\n",
       "      <td>45</td>\n",
       "      <td>1</td>\n",
       "      <td>False</td>\n",
       "      <td>green</td>\n",
       "    </tr>\n",
       "    <tr>\n",
       "      <th>1</th>\n",
       "      <td>2</td>\n",
       "      <td>Ivysaur</td>\n",
       "      <td>Grass</td>\n",
       "      <td>Poison</td>\n",
       "      <td>405</td>\n",
       "      <td>60</td>\n",
       "      <td>62</td>\n",
       "      <td>63</td>\n",
       "      <td>80</td>\n",
       "      <td>80</td>\n",
       "      <td>60</td>\n",
       "      <td>1</td>\n",
       "      <td>False</td>\n",
       "      <td>green</td>\n",
       "    </tr>\n",
       "    <tr>\n",
       "      <th>2</th>\n",
       "      <td>3</td>\n",
       "      <td>Venusaur</td>\n",
       "      <td>Grass</td>\n",
       "      <td>Poison</td>\n",
       "      <td>525</td>\n",
       "      <td>80</td>\n",
       "      <td>82</td>\n",
       "      <td>83</td>\n",
       "      <td>100</td>\n",
       "      <td>100</td>\n",
       "      <td>80</td>\n",
       "      <td>1</td>\n",
       "      <td>False</td>\n",
       "      <td>green</td>\n",
       "    </tr>\n",
       "    <tr>\n",
       "      <th>3</th>\n",
       "      <td>3</td>\n",
       "      <td>VenusaurMega Venusaur</td>\n",
       "      <td>Grass</td>\n",
       "      <td>Poison</td>\n",
       "      <td>625</td>\n",
       "      <td>80</td>\n",
       "      <td>100</td>\n",
       "      <td>123</td>\n",
       "      <td>122</td>\n",
       "      <td>120</td>\n",
       "      <td>80</td>\n",
       "      <td>1</td>\n",
       "      <td>False</td>\n",
       "      <td>green</td>\n",
       "    </tr>\n",
       "    <tr>\n",
       "      <th>4</th>\n",
       "      <td>4</td>\n",
       "      <td>Charmander</td>\n",
       "      <td>Fire</td>\n",
       "      <td>NaN</td>\n",
       "      <td>309</td>\n",
       "      <td>39</td>\n",
       "      <td>52</td>\n",
       "      <td>43</td>\n",
       "      <td>60</td>\n",
       "      <td>50</td>\n",
       "      <td>65</td>\n",
       "      <td>1</td>\n",
       "      <td>False</td>\n",
       "      <td>darkorange</td>\n",
       "    </tr>\n",
       "  </tbody>\n",
       "</table>\n",
       "</div>"
      ],
      "text/plain": [
       "   #                   Name Type 1  Type 2  Total  HP  Attack  Defense  \\\n",
       "0  1              Bulbasaur  Grass  Poison    318  45      49       49   \n",
       "1  2                Ivysaur  Grass  Poison    405  60      62       63   \n",
       "2  3               Venusaur  Grass  Poison    525  80      82       83   \n",
       "3  3  VenusaurMega Venusaur  Grass  Poison    625  80     100      123   \n",
       "4  4             Charmander   Fire     NaN    309  39      52       43   \n",
       "\n",
       "   Sp. Atk  Sp. Def  Speed  Generation  Legendary       color  \n",
       "0       65       65     45           1      False       green  \n",
       "1       80       80     60           1      False       green  \n",
       "2      100      100     80           1      False       green  \n",
       "3      122      120     80           1      False       green  \n",
       "4       60       50     65           1      False  darkorange  "
      ]
     },
     "execution_count": 28,
     "metadata": {},
     "output_type": "execute_result"
    }
   ],
   "source": [
    "# Just for the sake of coloring\n",
    "\n",
    "types = ['Dark', 'Electric', 'Grass', 'Ice', 'Rock', 'Fire']\n",
    "colors = ['darkorchid', 'yellow', 'green', 'lightcyan', 'gray', 'darkorange']\n",
    "\n",
    "# Oof! Das brauchte ich dringend! \n",
    "df_some = df[df['Type 1'].isin(types)]\n",
    "\n",
    "def color_(Type):\n",
    "    return colors[types.index(Type)]\n",
    "\n",
    "df_some.loc[:, 'color'] = df_some['Type 1'].apply(color_)\n",
    "\n",
    "df_some.head()\n"
   ]
  },
  {
   "cell_type": "code",
   "execution_count": 30,
   "metadata": {},
   "outputs": [
    {
     "data": {
      "text/html": [
       "\n",
       "  <div class=\"bk-root\" id=\"7161ceb2-4d56-4969-a00e-9572d12185e3\" data-root-id=\"3124\"></div>\n"
      ]
     },
     "metadata": {},
     "output_type": "display_data"
    },
    {
     "data": {
      "application/javascript": "(function(root) {\n  function embed_document(root) {\n  const docs_json = {\"aae6c004-8f96-4a50-a69b-737faac50f87\":{\"defs\":[],\"roots\":{\"references\":[{\"attributes\":{\"tabs\":[{\"id\":\"3122\"},{\"id\":\"3123\"}]},\"id\":\"3124\",\"type\":\"Tabs\"},{\"attributes\":{},\"id\":\"3078\",\"type\":\"DataRange1d\"},{\"attributes\":{},\"id\":\"3058\",\"type\":\"BasicTicker\"},{\"attributes\":{},\"id\":\"3064\",\"type\":\"SaveTool\"},{\"attributes\":{\"axis\":{\"id\":\"3088\"},\"coordinates\":null,\"dimension\":1,\"group\":null,\"ticker\":null},\"id\":\"3091\",\"type\":\"Grid\"},{\"attributes\":{\"fill_alpha\":{\"value\":0.1},\"fill_color\":{\"field\":\"color\"},\"hatch_alpha\":{\"value\":0.1},\"hatch_color\":{\"field\":\"color\"},\"line_alpha\":{\"value\":0.1},\"line_color\":{\"field\":\"color\"},\"size\":{\"value\":5},\"x\":{\"field\":\"Attack\"},\"y\":{\"field\":\"Defense\"}},\"id\":\"3108\",\"type\":\"Circle\"},{\"attributes\":{},\"id\":\"3080\",\"type\":\"LinearScale\"},{\"attributes\":{},\"id\":\"3092\",\"type\":\"PanTool\"},{\"attributes\":{\"coordinates\":null,\"formatter\":{\"id\":\"3287\"},\"group\":null,\"major_label_policy\":{\"id\":\"3288\"},\"ticker\":{\"id\":\"3054\"}},\"id\":\"3053\",\"type\":\"LinearAxis\"},{\"attributes\":{},\"id\":\"3290\",\"type\":\"BasicTickFormatter\"},{\"attributes\":{\"bottom_units\":\"screen\",\"coordinates\":null,\"fill_alpha\":0.5,\"fill_color\":\"lightgrey\",\"group\":null,\"left_units\":\"screen\",\"level\":\"overlay\",\"line_alpha\":1.0,\"line_color\":\"black\",\"line_dash\":[4,4],\"line_width\":2,\"right_units\":\"screen\",\"syncable\":false,\"top_units\":\"screen\"},\"id\":\"3098\",\"type\":\"BoxAnnotation\"},{\"attributes\":{},\"id\":\"3284\",\"type\":\"BasicTickFormatter\"},{\"attributes\":{},\"id\":\"3054\",\"type\":\"BasicTicker\"},{\"attributes\":{},\"id\":\"3076\",\"type\":\"DataRange1d\"},{\"attributes\":{\"coordinates\":null,\"group\":null},\"id\":\"3279\",\"type\":\"Title\"},{\"attributes\":{},\"id\":\"3291\",\"type\":\"AllLabels\"},{\"attributes\":{},\"id\":\"3045\",\"type\":\"DataRange1d\"},{\"attributes\":{},\"id\":\"3285\",\"type\":\"AllLabels\"},{\"attributes\":{\"fill_color\":{\"field\":\"color\"},\"hatch_color\":{\"field\":\"color\"},\"line_color\":{\"field\":\"color\"},\"size\":{\"value\":5},\"x\":{\"field\":\"Attack\"},\"y\":{\"field\":\"Defense\"}},\"id\":\"3113\",\"type\":\"Circle\"},{\"attributes\":{\"fill_alpha\":{\"value\":0.1},\"fill_color\":{\"field\":\"color\"},\"hatch_alpha\":{\"value\":0.1},\"hatch_color\":{\"field\":\"color\"},\"line_alpha\":{\"value\":0.1},\"line_color\":{\"field\":\"color\"},\"size\":{\"value\":5},\"x\":{\"field\":\"Attack\"},\"y\":{\"field\":\"Defense\"}},\"id\":\"3114\",\"type\":\"Circle\"},{\"attributes\":{},\"id\":\"3051\",\"type\":\"LinearScale\"},{\"attributes\":{},\"id\":\"3293\",\"type\":\"BasicTickFormatter\"},{\"attributes\":{},\"id\":\"3047\",\"type\":\"DataRange1d\"},{\"attributes\":{\"source\":{\"id\":\"3042\"}},\"id\":\"3111\",\"type\":\"CDSView\"},{\"attributes\":{},\"id\":\"3287\",\"type\":\"BasicTickFormatter\"},{\"attributes\":{},\"id\":\"3089\",\"type\":\"BasicTicker\"},{\"attributes\":{},\"id\":\"3049\",\"type\":\"LinearScale\"},{\"attributes\":{},\"id\":\"3065\",\"type\":\"ResetTool\"},{\"attributes\":{},\"id\":\"3095\",\"type\":\"SaveTool\"},{\"attributes\":{\"below\":[{\"id\":\"3084\"}],\"center\":[{\"id\":\"3087\"},{\"id\":\"3091\"}],\"left\":[{\"id\":\"3088\"}],\"renderers\":[{\"id\":\"3116\"}],\"title\":{\"id\":\"3281\"},\"toolbar\":{\"id\":\"3099\"},\"x_range\":{\"id\":\"3076\"},\"x_scale\":{\"id\":\"3080\"},\"y_range\":{\"id\":\"3078\"},\"y_scale\":{\"id\":\"3082\"}},\"id\":\"3075\",\"subtype\":\"Figure\",\"type\":\"Plot\"},{\"attributes\":{},\"id\":\"3093\",\"type\":\"WheelZoomTool\"},{\"attributes\":{},\"id\":\"3294\",\"type\":\"AllLabels\"},{\"attributes\":{\"coordinates\":null,\"data_source\":{\"id\":\"3042\"},\"glyph\":{\"id\":\"3107\"},\"group\":null,\"hover_glyph\":null,\"muted_glyph\":{\"id\":\"3109\"},\"nonselection_glyph\":{\"id\":\"3108\"},\"view\":{\"id\":\"3111\"}},\"id\":\"3110\",\"type\":\"GlyphRenderer\"},{\"attributes\":{},\"id\":\"3288\",\"type\":\"AllLabels\"},{\"attributes\":{},\"id\":\"3298\",\"type\":\"UnionRenderers\"},{\"attributes\":{\"overlay\":{\"id\":\"3098\"}},\"id\":\"3094\",\"type\":\"BoxZoomTool\"},{\"attributes\":{\"fill_alpha\":{\"value\":0.2},\"fill_color\":{\"field\":\"color\"},\"hatch_alpha\":{\"value\":0.2},\"hatch_color\":{\"field\":\"color\"},\"line_alpha\":{\"value\":0.2},\"line_color\":{\"field\":\"color\"},\"size\":{\"value\":5},\"x\":{\"field\":\"Attack\"},\"y\":{\"field\":\"Defense\"}},\"id\":\"3109\",\"type\":\"Circle\"},{\"attributes\":{},\"id\":\"3299\",\"type\":\"Selection\"},{\"attributes\":{\"callback\":null,\"renderers\":[{\"id\":\"3116\"}],\"tooltips\":[[\"Name\",\"@Name\"],[\"Attack\",\"@Attack\"],[\"Defense\",\"@Defense\"]]},\"id\":\"3119\",\"type\":\"HoverTool\"},{\"attributes\":{\"fill_alpha\":{\"value\":0.2},\"fill_color\":{\"field\":\"color\"},\"hatch_alpha\":{\"value\":0.2},\"hatch_color\":{\"field\":\"color\"},\"line_alpha\":{\"value\":0.2},\"line_color\":{\"field\":\"color\"},\"size\":{\"value\":5},\"x\":{\"field\":\"Attack\"},\"y\":{\"field\":\"Defense\"}},\"id\":\"3115\",\"type\":\"Circle\"},{\"attributes\":{\"child\":{\"id\":\"3075\"},\"title\":\"Legendary Pokemon\"},\"id\":\"3123\",\"type\":\"Panel\"},{\"attributes\":{\"data\":{\"#\":[144,145,146,243,244,250,377,378,485,491,492,492,639,640,642,642,717,719,719,721],\"Attack\":[85,90,100,85,115,130,100,50,90,90,100,103,129,90,115,105,131,100,160,110],\"Defense\":[100,85,90,75,85,90,200,100,106,90,100,75,90,72,70,70,95,150,110,120],\"Generation\":[1,1,1,2,2,2,3,3,4,4,4,4,5,5,5,5,6,6,6,6],\"HP\":[90,90,90,90,115,106,80,80,91,70,100,100,91,91,79,79,126,50,50,80],\"Legendary\":[true,true,true,true,true,true,true,true,true,true,true,true,true,true,true,true,true,true,true,true],\"Name\":[\"Articuno\",\"Zapdos\",\"Moltres\",\"Raikou\",\"Entei\",\"Ho-oh\",\"Regirock\",\"Regice\",\"Heatran\",\"Darkrai\",\"ShayminLand Forme\",\"ShayminSky Forme\",\"Terrakion\",\"Virizion\",\"ThundurusIncarnate Forme\",\"ThundurusTherian Forme\",\"Yveltal\",\"Diancie\",\"DiancieMega Diancie\",\"Volcanion\"],\"Sp. Atk\":[95,125,125,115,90,110,50,100,130,135,100,120,72,90,125,145,131,100,160,130],\"Sp. Def\":[125,90,85,100,75,154,100,200,106,90,100,75,90,129,80,80,98,150,110,90],\"Speed\":[85,100,90,115,100,90,50,50,77,125,100,127,108,108,111,101,99,50,110,70],\"Total\":[580,580,580,580,580,680,580,580,600,600,600,600,580,580,580,580,680,600,700,600],\"Type 1\":[\"Ice\",\"Electric\",\"Fire\",\"Electric\",\"Fire\",\"Fire\",\"Rock\",\"Ice\",\"Fire\",\"Dark\",\"Grass\",\"Grass\",\"Rock\",\"Grass\",\"Electric\",\"Electric\",\"Dark\",\"Rock\",\"Rock\",\"Fire\"],\"Type 2\":[\"Flying\",\"Flying\",\"Flying\",\"NaN\",\"NaN\",\"Flying\",\"NaN\",\"NaN\",\"Steel\",\"NaN\",\"NaN\",\"Flying\",\"Fighting\",\"Fighting\",\"Flying\",\"Flying\",\"Flying\",\"Fairy\",\"Fairy\",\"Water\"],\"color\":[\"lightcyan\",\"yellow\",\"darkorange\",\"yellow\",\"darkorange\",\"darkorange\",\"gray\",\"lightcyan\",\"darkorange\",\"darkorchid\",\"green\",\"green\",\"gray\",\"green\",\"yellow\",\"yellow\",\"darkorchid\",\"gray\",\"gray\",\"darkorange\"],\"index\":[156,157,158,262,263,270,414,415,542,549,550,551,700,701,704,705,793,795,796,799]},\"selected\":{\"id\":\"3299\"},\"selection_policy\":{\"id\":\"3298\"}},\"id\":\"3043\",\"type\":\"ColumnDataSource\"},{\"attributes\":{\"coordinates\":null,\"data_source\":{\"id\":\"3043\"},\"glyph\":{\"id\":\"3113\"},\"group\":null,\"hover_glyph\":null,\"muted_glyph\":{\"id\":\"3115\"},\"nonselection_glyph\":{\"id\":\"3114\"},\"view\":{\"id\":\"3117\"}},\"id\":\"3116\",\"type\":\"GlyphRenderer\"},{\"attributes\":{},\"id\":\"3066\",\"type\":\"HelpTool\"},{\"attributes\":{\"callback\":null,\"renderers\":[{\"id\":\"3110\"}],\"tooltips\":[[\"Name\",\"@Name\"],[\"Attack\",\"@Attack\"],[\"Defense\",\"@Defense\"]]},\"id\":\"3118\",\"type\":\"HoverTool\"},{\"attributes\":{},\"id\":\"3097\",\"type\":\"HelpTool\"},{\"attributes\":{},\"id\":\"3295\",\"type\":\"UnionRenderers\"},{\"attributes\":{\"data\":{\"#\":[1,2,3,3,4,5,6,6,6,25,26,37,38,43,44,45,58,59,69,70,71,74,75,76,77,78,81,82,95,100,101,102,103,114,124,125,126,135,136,138,139,140,141,142,142,152,153,154,155,156,157,172,179,180,181,181,182,185,187,188,189,191,192,197,198,215,218,219,220,221,225,228,229,229,238,239,240,246,247,248,248,252,253,254,254,255,256,257,257,261,262,273,274,275,285,286,299,302,302,309,310,310,311,312,315,322,323,323,324,331,332,337,338,345,346,347,348,357,359,359,361,362,362,363,364,365,387,388,389,390,391,392,403,404,405,406,407,408,409,410,411,417,420,421,430,438,455,459,460,460,461,462,465,466,467,470,471,473,476,478,479,479,479,479,479,479,495,496,497,498,499,500,509,510,511,512,513,514,522,523,524,525,526,546,547,548,549,554,555,555,556,559,560,566,567,570,571,582,583,584,587,590,591,597,598,602,603,604,613,614,615,624,625,629,630,631,633,634,635,650,651,652,653,654,655,662,663,667,668,672,673,686,687,688,689,694,695,696,697,698,699,702,703,712,713],\"Attack\":[49,62,82,100,52,64,84,130,104,55,90,41,76,50,65,80,70,110,75,90,105,80,95,120,85,100,35,60,45,30,50,40,95,55,50,83,95,65,130,40,60,80,115,105,135,49,62,82,52,64,84,40,40,55,75,95,80,100,35,45,55,30,75,65,85,95,40,50,50,100,55,60,90,90,30,63,75,64,84,134,164,45,65,85,110,60,85,120,160,55,90,40,70,100,40,130,45,75,85,45,75,75,50,40,60,60,100,120,85,85,115,55,95,41,81,95,125,68,130,150,50,80,120,40,60,80,68,89,109,58,78,104,65,85,120,30,70,125,165,42,52,45,35,60,125,80,100,62,92,132,120,70,100,123,95,110,60,130,55,80,50,65,65,65,65,65,45,60,75,63,93,123,50,88,53,98,53,98,60,100,75,105,135,27,67,35,60,90,140,30,86,75,90,112,140,65,105,50,65,95,75,55,85,50,94,55,85,115,70,110,50,85,125,55,65,97,65,85,105,61,78,107,45,59,69,73,81,50,68,65,100,54,92,52,105,38,55,89,121,59,77,58,50,69,117],\"Defense\":[49,63,83,123,43,58,78,111,78,40,55,40,75,55,70,85,45,80,35,50,65,100,115,130,55,70,70,95,160,50,70,80,85,115,35,57,57,60,60,100,125,90,105,65,85,65,80,100,43,58,78,15,40,55,85,105,95,115,40,50,70,30,55,110,42,55,40,120,40,80,45,30,50,90,15,37,37,50,70,110,150,35,45,65,75,40,60,70,80,35,70,50,40,60,60,80,135,75,125,40,60,80,40,50,45,40,70,100,140,40,60,65,85,77,97,50,100,83,60,60,50,80,80,50,70,90,64,85,105,44,52,71,34,49,79,35,65,40,60,118,168,70,45,70,52,95,72,50,75,105,65,115,125,67,67,130,110,80,145,70,77,107,107,107,107,107,55,75,95,45,55,65,37,50,48,63,48,63,32,63,85,105,130,60,85,50,75,45,55,105,67,70,115,45,65,40,60,50,65,85,60,45,70,91,131,40,70,80,40,80,30,70,100,75,105,66,50,70,90,65,95,122,40,58,72,55,71,58,72,48,62,53,88,67,115,33,52,77,119,50,72,57,150,85,184],\"Generation\":[1,1,1,1,1,1,1,1,1,1,1,1,1,1,1,1,1,1,1,1,1,1,1,1,1,1,1,1,1,1,1,1,1,1,1,1,1,1,1,1,1,1,1,1,1,2,2,2,2,2,2,2,2,2,2,2,2,2,2,2,2,2,2,2,2,2,2,2,2,2,2,2,2,2,2,2,2,2,2,2,2,3,3,3,3,3,3,3,3,3,3,3,3,3,3,3,3,3,3,3,3,3,3,3,3,3,3,3,3,3,3,3,3,3,3,3,3,3,3,3,3,3,3,3,3,3,4,4,4,4,4,4,4,4,4,4,4,4,4,4,4,4,4,4,4,4,4,4,4,4,4,4,4,4,4,4,4,4,4,4,4,4,4,4,4,4,5,5,5,5,5,5,5,5,5,5,5,5,5,5,5,5,5,5,5,5,5,5,5,5,5,5,5,5,5,5,5,5,5,5,5,5,5,5,5,5,5,5,5,5,5,5,5,5,5,5,5,5,5,6,6,6,6,6,6,6,6,6,6,6,6,6,6,6,6,6,6,6,6,6,6,6,6,6,6],\"HP\":[45,60,80,80,39,58,78,78,78,35,60,38,73,45,60,75,55,90,50,65,80,40,55,80,50,65,25,50,35,40,60,60,95,65,65,65,65,65,65,35,70,30,60,80,80,45,60,80,39,58,78,20,55,70,90,90,75,70,35,55,75,30,75,95,60,55,40,50,50,100,45,45,75,75,45,45,45,50,70,100,100,40,50,70,70,45,60,80,80,35,70,40,70,90,60,60,30,50,50,40,70,70,60,60,50,60,70,70,70,50,70,70,70,66,86,45,75,99,65,65,50,80,80,70,90,110,55,75,95,44,64,76,45,60,80,40,60,67,97,30,60,60,45,70,100,50,74,60,90,90,70,70,100,75,75,65,65,110,60,70,50,50,50,50,50,50,45,60,75,65,90,110,41,64,50,75,50,75,45,75,55,70,85,40,60,45,70,70,105,105,75,50,65,55,75,40,60,36,51,71,55,69,114,44,74,35,65,85,55,95,70,45,65,70,110,85,52,72,92,56,61,88,40,59,75,62,78,62,86,66,123,53,86,42,72,44,62,58,82,77,123,67,50,55,95],\"Legendary\":[false,false,false,false,false,false,false,false,false,false,false,false,false,false,false,false,false,false,false,false,false,false,false,false,false,false,false,false,false,false,false,false,false,false,false,false,false,false,false,false,false,false,false,false,false,false,false,false,false,false,false,false,false,false,false,false,false,false,false,false,false,false,false,false,false,false,false,false,false,false,false,false,false,false,false,false,false,false,false,false,false,false,false,false,false,false,false,false,false,false,false,false,false,false,false,false,false,false,false,false,false,false,false,false,false,false,false,false,false,false,false,false,false,false,false,false,false,false,false,false,false,false,false,false,false,false,false,false,false,false,false,false,false,false,false,false,false,false,false,false,false,false,false,false,false,false,false,false,false,false,false,false,false,false,false,false,false,false,false,false,false,false,false,false,false,false,false,false,false,false,false,false,false,false,false,false,false,false,false,false,false,false,false,false,false,false,false,false,false,false,false,false,false,false,false,false,false,false,false,false,false,false,false,false,false,false,false,false,false,false,false,false,false,false,false,false,false,false,false,false,false,false,false,false,false,false,false,false,false,false,false,false,false,false,false,false,false,false,false,false,false,false,false,false,false],\"Name\":[\"Bulbasaur\",\"Ivysaur\",\"Venusaur\",\"VenusaurMega Venusaur\",\"Charmander\",\"Charmeleon\",\"Charizard\",\"CharizardMega Charizard X\",\"CharizardMega Charizard Y\",\"Pikachu\",\"Raichu\",\"Vulpix\",\"Ninetales\",\"Oddish\",\"Gloom\",\"Vileplume\",\"Growlithe\",\"Arcanine\",\"Bellsprout\",\"Weepinbell\",\"Victreebel\",\"Geodude\",\"Graveler\",\"Golem\",\"Ponyta\",\"Rapidash\",\"Magnemite\",\"Magneton\",\"Onix\",\"Voltorb\",\"Electrode\",\"Exeggcute\",\"Exeggutor\",\"Tangela\",\"Jynx\",\"Electabuzz\",\"Magmar\",\"Jolteon\",\"Flareon\",\"Omanyte\",\"Omastar\",\"Kabuto\",\"Kabutops\",\"Aerodactyl\",\"AerodactylMega Aerodactyl\",\"Chikorita\",\"Bayleef\",\"Meganium\",\"Cyndaquil\",\"Quilava\",\"Typhlosion\",\"Pichu\",\"Mareep\",\"Flaaffy\",\"Ampharos\",\"AmpharosMega Ampharos\",\"Bellossom\",\"Sudowoodo\",\"Hoppip\",\"Skiploom\",\"Jumpluff\",\"Sunkern\",\"Sunflora\",\"Umbreon\",\"Murkrow\",\"Sneasel\",\"Slugma\",\"Magcargo\",\"Swinub\",\"Piloswine\",\"Delibird\",\"Houndour\",\"Houndoom\",\"HoundoomMega Houndoom\",\"Smoochum\",\"Elekid\",\"Magby\",\"Larvitar\",\"Pupitar\",\"Tyranitar\",\"TyranitarMega Tyranitar\",\"Treecko\",\"Grovyle\",\"Sceptile\",\"SceptileMega Sceptile\",\"Torchic\",\"Combusken\",\"Blaziken\",\"BlazikenMega Blaziken\",\"Poochyena\",\"Mightyena\",\"Seedot\",\"Nuzleaf\",\"Shiftry\",\"Shroomish\",\"Breloom\",\"Nosepass\",\"Sableye\",\"SableyeMega Sableye\",\"Electrike\",\"Manectric\",\"ManectricMega Manectric\",\"Plusle\",\"Minun\",\"Roselia\",\"Numel\",\"Camerupt\",\"CameruptMega Camerupt\",\"Torkoal\",\"Cacnea\",\"Cacturne\",\"Lunatone\",\"Solrock\",\"Lileep\",\"Cradily\",\"Anorith\",\"Armaldo\",\"Tropius\",\"Absol\",\"AbsolMega Absol\",\"Snorunt\",\"Glalie\",\"GlalieMega Glalie\",\"Spheal\",\"Sealeo\",\"Walrein\",\"Turtwig\",\"Grotle\",\"Torterra\",\"Chimchar\",\"Monferno\",\"Infernape\",\"Shinx\",\"Luxio\",\"Luxray\",\"Budew\",\"Roserade\",\"Cranidos\",\"Rampardos\",\"Shieldon\",\"Bastiodon\",\"Pachirisu\",\"Cherubi\",\"Cherrim\",\"Honchkrow\",\"Bonsly\",\"Carnivine\",\"Snover\",\"Abomasnow\",\"AbomasnowMega Abomasnow\",\"Weavile\",\"Magnezone\",\"Tangrowth\",\"Electivire\",\"Magmortar\",\"Leafeon\",\"Glaceon\",\"Mamoswine\",\"Probopass\",\"Froslass\",\"Rotom\",\"RotomHeat Rotom\",\"RotomWash Rotom\",\"RotomFrost Rotom\",\"RotomFan Rotom\",\"RotomMow Rotom\",\"Snivy\",\"Servine\",\"Serperior\",\"Tepig\",\"Pignite\",\"Emboar\",\"Purrloin\",\"Liepard\",\"Pansage\",\"Simisage\",\"Pansear\",\"Simisear\",\"Blitzle\",\"Zebstrika\",\"Roggenrola\",\"Boldore\",\"Gigalith\",\"Cottonee\",\"Whimsicott\",\"Petilil\",\"Lilligant\",\"Darumaka\",\"DarmanitanStandard Mode\",\"DarmanitanZen Mode\",\"Maractus\",\"Scraggy\",\"Scrafty\",\"Archen\",\"Archeops\",\"Zorua\",\"Zoroark\",\"Vanillite\",\"Vanillish\",\"Vanilluxe\",\"Emolga\",\"Foongus\",\"Amoonguss\",\"Ferroseed\",\"Ferrothorn\",\"Tynamo\",\"Eelektrik\",\"Eelektross\",\"Cubchoo\",\"Beartic\",\"Cryogonal\",\"Pawniard\",\"Bisharp\",\"Vullaby\",\"Mandibuzz\",\"Heatmor\",\"Deino\",\"Zweilous\",\"Hydreigon\",\"Chespin\",\"Quilladin\",\"Chesnaught\",\"Fennekin\",\"Braixen\",\"Delphox\",\"Fletchinder\",\"Talonflame\",\"Litleo\",\"Pyroar\",\"Skiddo\",\"Gogoat\",\"Inkay\",\"Malamar\",\"Binacle\",\"Barbaracle\",\"Helioptile\",\"Heliolisk\",\"Tyrunt\",\"Tyrantrum\",\"Amaura\",\"Aurorus\",\"Dedenne\",\"Carbink\",\"Bergmite\",\"Avalugg\"],\"Sp. Atk\":[65,80,100,122,60,80,109,130,159,50,90,50,81,75,85,110,70,100,70,85,100,30,45,55,65,80,95,120,30,55,80,60,125,100,115,95,100,110,95,90,115,55,65,60,70,49,63,83,60,80,109,35,65,80,115,165,90,30,35,45,55,30,105,60,85,35,70,80,30,60,65,80,110,140,85,65,70,45,65,95,95,65,85,105,145,70,85,110,130,30,60,30,60,90,40,60,45,65,85,65,105,135,85,75,100,65,105,145,85,85,115,95,55,61,81,40,70,72,75,115,50,80,120,55,75,95,45,55,75,58,78,104,40,60,95,50,125,30,65,42,47,45,62,87,105,10,90,62,92,132,45,130,110,95,125,60,130,70,75,80,95,105,105,105,105,105,45,60,75,45,70,100,50,88,53,98,53,98,50,80,25,50,60,37,77,70,110,15,30,140,106,35,45,74,112,80,120,65,80,110,75,55,85,24,54,45,75,105,60,70,95,40,60,45,55,105,45,65,125,48,56,74,62,90,114,56,74,73,109,62,97,37,68,39,54,61,109,45,69,67,99,81,50,32,44],\"Sp. Def\":[65,80,100,120,50,65,85,85,115,50,80,65,100,65,75,90,50,80,30,45,70,30,45,65,65,80,55,70,45,55,80,45,65,40,95,85,85,95,110,55,70,45,70,75,95,65,80,100,50,65,85,35,45,60,90,110,100,65,55,65,95,30,85,130,42,75,40,80,30,60,45,50,80,90,65,55,55,50,70,100,120,55,65,85,85,50,60,70,80,30,60,30,40,60,60,60,90,65,115,40,60,80,75,85,80,45,75,105,70,40,60,85,65,87,107,50,80,87,60,60,50,80,80,50,70,90,55,65,85,44,52,71,34,49,79,70,105,30,50,88,138,90,53,78,52,45,72,60,85,105,85,90,50,85,95,65,95,60,150,70,77,107,107,107,107,107,55,75,95,45,55,65,37,50,48,63,48,63,32,63,25,40,80,50,75,50,75,45,55,105,67,70,115,45,65,40,60,60,75,95,60,55,80,86,116,40,70,80,40,80,135,40,70,65,95,66,50,70,90,45,58,75,60,70,100,52,69,54,66,57,81,46,75,56,86,43,94,45,59,63,92,67,150,35,46],\"Speed\":[45,60,80,80,65,80,100,100,100,90,110,65,100,30,40,50,60,95,40,55,70,20,35,45,90,105,45,70,70,100,140,40,55,60,95,105,93,130,65,35,55,55,80,130,150,45,60,80,65,80,100,60,35,45,55,45,50,30,50,80,110,30,30,65,91,115,20,30,50,50,75,65,95,115,65,95,83,41,51,61,71,70,95,120,145,45,55,80,100,35,70,30,60,80,35,70,30,50,20,65,105,135,95,95,65,35,40,20,20,35,55,70,70,23,43,75,45,51,75,115,50,80,100,25,45,65,31,36,56,61,81,108,45,60,70,55,90,58,58,30,30,95,35,85,71,10,46,40,60,30,125,60,50,95,83,95,65,80,40,110,91,86,86,86,86,86,63,83,113,45,55,65,66,106,64,101,64,101,76,116,15,20,25,66,116,30,90,50,95,55,60,48,58,70,110,65,105,44,59,79,103,15,30,10,20,60,40,50,40,50,105,60,70,60,80,65,38,58,98,38,57,64,60,73,104,84,126,72,106,52,68,45,73,50,68,70,109,48,71,46,58,101,50,28,28],\"Total\":[318,405,525,625,309,405,534,634,634,320,485,299,505,320,395,490,350,555,300,390,490,300,390,495,410,500,325,465,385,330,480,325,520,435,455,490,495,525,525,355,495,355,495,515,615,318,405,525,309,405,534,205,280,365,510,610,490,410,250,340,460,180,425,525,405,430,250,410,250,450,330,330,500,600,305,360,365,300,410,600,700,310,405,530,630,310,405,530,630,220,420,220,340,480,295,460,375,380,480,295,475,575,405,405,400,305,460,560,470,335,475,440,440,355,495,355,495,460,465,565,300,480,580,290,410,530,318,405,525,309,405,534,263,363,523,280,515,350,495,350,495,405,275,450,505,290,454,334,494,594,510,535,535,540,540,525,525,530,525,480,440,520,520,520,520,520,308,413,528,308,418,528,281,446,316,498,316,498,295,497,280,390,515,280,480,280,480,315,480,540,461,348,488,401,567,330,510,305,395,535,428,294,464,305,489,275,405,515,305,485,485,340,490,370,510,484,300,420,600,313,405,530,307,409,534,382,499,369,507,350,531,288,482,306,500,289,481,362,521,362,521,431,500,304,514],\"Type 1\":[\"Grass\",\"Grass\",\"Grass\",\"Grass\",\"Fire\",\"Fire\",\"Fire\",\"Fire\",\"Fire\",\"Electric\",\"Electric\",\"Fire\",\"Fire\",\"Grass\",\"Grass\",\"Grass\",\"Fire\",\"Fire\",\"Grass\",\"Grass\",\"Grass\",\"Rock\",\"Rock\",\"Rock\",\"Fire\",\"Fire\",\"Electric\",\"Electric\",\"Rock\",\"Electric\",\"Electric\",\"Grass\",\"Grass\",\"Grass\",\"Ice\",\"Electric\",\"Fire\",\"Electric\",\"Fire\",\"Rock\",\"Rock\",\"Rock\",\"Rock\",\"Rock\",\"Rock\",\"Grass\",\"Grass\",\"Grass\",\"Fire\",\"Fire\",\"Fire\",\"Electric\",\"Electric\",\"Electric\",\"Electric\",\"Electric\",\"Grass\",\"Rock\",\"Grass\",\"Grass\",\"Grass\",\"Grass\",\"Grass\",\"Dark\",\"Dark\",\"Dark\",\"Fire\",\"Fire\",\"Ice\",\"Ice\",\"Ice\",\"Dark\",\"Dark\",\"Dark\",\"Ice\",\"Electric\",\"Fire\",\"Rock\",\"Rock\",\"Rock\",\"Rock\",\"Grass\",\"Grass\",\"Grass\",\"Grass\",\"Fire\",\"Fire\",\"Fire\",\"Fire\",\"Dark\",\"Dark\",\"Grass\",\"Grass\",\"Grass\",\"Grass\",\"Grass\",\"Rock\",\"Dark\",\"Dark\",\"Electric\",\"Electric\",\"Electric\",\"Electric\",\"Electric\",\"Grass\",\"Fire\",\"Fire\",\"Fire\",\"Fire\",\"Grass\",\"Grass\",\"Rock\",\"Rock\",\"Rock\",\"Rock\",\"Rock\",\"Rock\",\"Grass\",\"Dark\",\"Dark\",\"Ice\",\"Ice\",\"Ice\",\"Ice\",\"Ice\",\"Ice\",\"Grass\",\"Grass\",\"Grass\",\"Fire\",\"Fire\",\"Fire\",\"Electric\",\"Electric\",\"Electric\",\"Grass\",\"Grass\",\"Rock\",\"Rock\",\"Rock\",\"Rock\",\"Electric\",\"Grass\",\"Grass\",\"Dark\",\"Rock\",\"Grass\",\"Grass\",\"Grass\",\"Grass\",\"Dark\",\"Electric\",\"Grass\",\"Electric\",\"Fire\",\"Grass\",\"Ice\",\"Ice\",\"Rock\",\"Ice\",\"Electric\",\"Electric\",\"Electric\",\"Electric\",\"Electric\",\"Electric\",\"Grass\",\"Grass\",\"Grass\",\"Fire\",\"Fire\",\"Fire\",\"Dark\",\"Dark\",\"Grass\",\"Grass\",\"Fire\",\"Fire\",\"Electric\",\"Electric\",\"Rock\",\"Rock\",\"Rock\",\"Grass\",\"Grass\",\"Grass\",\"Grass\",\"Fire\",\"Fire\",\"Fire\",\"Grass\",\"Dark\",\"Dark\",\"Rock\",\"Rock\",\"Dark\",\"Dark\",\"Ice\",\"Ice\",\"Ice\",\"Electric\",\"Grass\",\"Grass\",\"Grass\",\"Grass\",\"Electric\",\"Electric\",\"Electric\",\"Ice\",\"Ice\",\"Ice\",\"Dark\",\"Dark\",\"Dark\",\"Dark\",\"Fire\",\"Dark\",\"Dark\",\"Dark\",\"Grass\",\"Grass\",\"Grass\",\"Fire\",\"Fire\",\"Fire\",\"Fire\",\"Fire\",\"Fire\",\"Fire\",\"Grass\",\"Grass\",\"Dark\",\"Dark\",\"Rock\",\"Rock\",\"Electric\",\"Electric\",\"Rock\",\"Rock\",\"Rock\",\"Rock\",\"Electric\",\"Rock\",\"Ice\",\"Ice\"],\"Type 2\":[\"Poison\",\"Poison\",\"Poison\",\"Poison\",\"NaN\",\"NaN\",\"Flying\",\"Dragon\",\"Flying\",\"NaN\",\"NaN\",\"NaN\",\"NaN\",\"Poison\",\"Poison\",\"Poison\",\"NaN\",\"NaN\",\"Poison\",\"Poison\",\"Poison\",\"Ground\",\"Ground\",\"Ground\",\"NaN\",\"NaN\",\"Steel\",\"Steel\",\"Ground\",\"NaN\",\"NaN\",\"Psychic\",\"Psychic\",\"NaN\",\"Psychic\",\"NaN\",\"NaN\",\"NaN\",\"NaN\",\"Water\",\"Water\",\"Water\",\"Water\",\"Flying\",\"Flying\",\"NaN\",\"NaN\",\"NaN\",\"NaN\",\"NaN\",\"NaN\",\"NaN\",\"NaN\",\"NaN\",\"NaN\",\"Dragon\",\"NaN\",\"NaN\",\"Flying\",\"Flying\",\"Flying\",\"NaN\",\"NaN\",\"NaN\",\"Flying\",\"Ice\",\"NaN\",\"Rock\",\"Ground\",\"Ground\",\"Flying\",\"Fire\",\"Fire\",\"Fire\",\"Psychic\",\"NaN\",\"NaN\",\"Ground\",\"Ground\",\"Dark\",\"Dark\",\"NaN\",\"NaN\",\"NaN\",\"Dragon\",\"NaN\",\"Fighting\",\"Fighting\",\"Fighting\",\"NaN\",\"NaN\",\"NaN\",\"Dark\",\"Dark\",\"NaN\",\"Fighting\",\"NaN\",\"Ghost\",\"Ghost\",\"NaN\",\"NaN\",\"NaN\",\"NaN\",\"NaN\",\"Poison\",\"Ground\",\"Ground\",\"Ground\",\"NaN\",\"NaN\",\"Dark\",\"Psychic\",\"Psychic\",\"Grass\",\"Grass\",\"Bug\",\"Bug\",\"Flying\",\"NaN\",\"NaN\",\"NaN\",\"NaN\",\"NaN\",\"Water\",\"Water\",\"Water\",\"NaN\",\"NaN\",\"Ground\",\"NaN\",\"Fighting\",\"Fighting\",\"NaN\",\"NaN\",\"NaN\",\"Poison\",\"Poison\",\"NaN\",\"NaN\",\"Steel\",\"Steel\",\"NaN\",\"NaN\",\"NaN\",\"Flying\",\"NaN\",\"NaN\",\"Ice\",\"Ice\",\"Ice\",\"Ice\",\"Steel\",\"NaN\",\"NaN\",\"NaN\",\"NaN\",\"NaN\",\"Ground\",\"Steel\",\"Ghost\",\"Ghost\",\"Fire\",\"Water\",\"Ice\",\"Flying\",\"Grass\",\"NaN\",\"NaN\",\"NaN\",\"NaN\",\"Fighting\",\"Fighting\",\"NaN\",\"NaN\",\"NaN\",\"NaN\",\"NaN\",\"NaN\",\"NaN\",\"NaN\",\"NaN\",\"NaN\",\"NaN\",\"Fairy\",\"Fairy\",\"NaN\",\"NaN\",\"NaN\",\"NaN\",\"Psychic\",\"NaN\",\"Fighting\",\"Fighting\",\"Flying\",\"Flying\",\"NaN\",\"NaN\",\"NaN\",\"NaN\",\"NaN\",\"Flying\",\"Poison\",\"Poison\",\"Steel\",\"Steel\",\"NaN\",\"NaN\",\"NaN\",\"NaN\",\"NaN\",\"NaN\",\"Steel\",\"Steel\",\"Flying\",\"Flying\",\"NaN\",\"Dragon\",\"Dragon\",\"Dragon\",\"NaN\",\"NaN\",\"Fighting\",\"NaN\",\"NaN\",\"Psychic\",\"Flying\",\"Flying\",\"Normal\",\"Normal\",\"NaN\",\"NaN\",\"Psychic\",\"Psychic\",\"Water\",\"Water\",\"Normal\",\"Normal\",\"Dragon\",\"Dragon\",\"Ice\",\"Ice\",\"Fairy\",\"Fairy\",\"NaN\",\"NaN\"],\"color\":[\"green\",\"green\",\"green\",\"green\",\"darkorange\",\"darkorange\",\"darkorange\",\"darkorange\",\"darkorange\",\"yellow\",\"yellow\",\"darkorange\",\"darkorange\",\"green\",\"green\",\"green\",\"darkorange\",\"darkorange\",\"green\",\"green\",\"green\",\"gray\",\"gray\",\"gray\",\"darkorange\",\"darkorange\",\"yellow\",\"yellow\",\"gray\",\"yellow\",\"yellow\",\"green\",\"green\",\"green\",\"lightcyan\",\"yellow\",\"darkorange\",\"yellow\",\"darkorange\",\"gray\",\"gray\",\"gray\",\"gray\",\"gray\",\"gray\",\"green\",\"green\",\"green\",\"darkorange\",\"darkorange\",\"darkorange\",\"yellow\",\"yellow\",\"yellow\",\"yellow\",\"yellow\",\"green\",\"gray\",\"green\",\"green\",\"green\",\"green\",\"green\",\"darkorchid\",\"darkorchid\",\"darkorchid\",\"darkorange\",\"darkorange\",\"lightcyan\",\"lightcyan\",\"lightcyan\",\"darkorchid\",\"darkorchid\",\"darkorchid\",\"lightcyan\",\"yellow\",\"darkorange\",\"gray\",\"gray\",\"gray\",\"gray\",\"green\",\"green\",\"green\",\"green\",\"darkorange\",\"darkorange\",\"darkorange\",\"darkorange\",\"darkorchid\",\"darkorchid\",\"green\",\"green\",\"green\",\"green\",\"green\",\"gray\",\"darkorchid\",\"darkorchid\",\"yellow\",\"yellow\",\"yellow\",\"yellow\",\"yellow\",\"green\",\"darkorange\",\"darkorange\",\"darkorange\",\"darkorange\",\"green\",\"green\",\"gray\",\"gray\",\"gray\",\"gray\",\"gray\",\"gray\",\"green\",\"darkorchid\",\"darkorchid\",\"lightcyan\",\"lightcyan\",\"lightcyan\",\"lightcyan\",\"lightcyan\",\"lightcyan\",\"green\",\"green\",\"green\",\"darkorange\",\"darkorange\",\"darkorange\",\"yellow\",\"yellow\",\"yellow\",\"green\",\"green\",\"gray\",\"gray\",\"gray\",\"gray\",\"yellow\",\"green\",\"green\",\"darkorchid\",\"gray\",\"green\",\"green\",\"green\",\"green\",\"darkorchid\",\"yellow\",\"green\",\"yellow\",\"darkorange\",\"green\",\"lightcyan\",\"lightcyan\",\"gray\",\"lightcyan\",\"yellow\",\"yellow\",\"yellow\",\"yellow\",\"yellow\",\"yellow\",\"green\",\"green\",\"green\",\"darkorange\",\"darkorange\",\"darkorange\",\"darkorchid\",\"darkorchid\",\"green\",\"green\",\"darkorange\",\"darkorange\",\"yellow\",\"yellow\",\"gray\",\"gray\",\"gray\",\"green\",\"green\",\"green\",\"green\",\"darkorange\",\"darkorange\",\"darkorange\",\"green\",\"darkorchid\",\"darkorchid\",\"gray\",\"gray\",\"darkorchid\",\"darkorchid\",\"lightcyan\",\"lightcyan\",\"lightcyan\",\"yellow\",\"green\",\"green\",\"green\",\"green\",\"yellow\",\"yellow\",\"yellow\",\"lightcyan\",\"lightcyan\",\"lightcyan\",\"darkorchid\",\"darkorchid\",\"darkorchid\",\"darkorchid\",\"darkorange\",\"darkorchid\",\"darkorchid\",\"darkorchid\",\"green\",\"green\",\"green\",\"darkorange\",\"darkorange\",\"darkorange\",\"darkorange\",\"darkorange\",\"darkorange\",\"darkorange\",\"green\",\"green\",\"darkorchid\",\"darkorchid\",\"gray\",\"gray\",\"yellow\",\"yellow\",\"gray\",\"gray\",\"gray\",\"gray\",\"yellow\",\"gray\",\"lightcyan\",\"lightcyan\"],\"index\":[0,1,2,3,4,5,6,7,8,30,31,42,43,48,49,50,63,64,75,76,77,80,81,82,83,84,88,89,103,108,109,110,111,122,133,134,135,146,147,149,150,151,152,153,154,166,167,168,169,170,171,186,193,194,195,196,197,200,202,203,204,206,207,212,213,233,236,237,238,239,243,246,247,248,257,258,259,265,266,267,268,272,273,274,275,276,277,278,279,284,285,296,297,298,309,310,323,326,327,337,338,339,340,341,344,352,353,354,355,362,363,369,370,377,378,379,380,390,392,393,395,396,397,398,399,400,432,433,434,435,436,437,448,449,450,451,452,453,454,455,456,464,467,468,478,486,505,509,510,511,512,513,516,517,518,521,522,524,528,530,531,532,533,534,535,536,554,555,556,557,558,559,568,569,570,571,572,573,581,582,583,584,585,606,607,608,609,614,615,616,617,620,621,627,628,631,632,643,644,645,648,651,652,658,659,663,664,665,674,675,676,685,686,690,691,692,694,695,696,718,719,720,721,722,723,730,731,735,736,740,741,756,757,758,759,764,765,766,767,768,769,772,773,788,789]},\"selected\":{\"id\":\"3296\"},\"selection_policy\":{\"id\":\"3295\"}},\"id\":\"3042\",\"type\":\"ColumnDataSource\"},{\"attributes\":{\"source\":{\"id\":\"3043\"}},\"id\":\"3117\",\"type\":\"CDSView\"},{\"attributes\":{\"child\":{\"id\":\"3044\"},\"title\":\"Normal Pokemon\"},\"id\":\"3122\",\"type\":\"Panel\"},{\"attributes\":{},\"id\":\"3096\",\"type\":\"ResetTool\"},{\"attributes\":{},\"id\":\"3296\",\"type\":\"Selection\"},{\"attributes\":{\"bottom_units\":\"screen\",\"coordinates\":null,\"fill_alpha\":0.5,\"fill_color\":\"lightgrey\",\"group\":null,\"left_units\":\"screen\",\"level\":\"overlay\",\"line_alpha\":1.0,\"line_color\":\"black\",\"line_dash\":[4,4],\"line_width\":2,\"right_units\":\"screen\",\"syncable\":false,\"top_units\":\"screen\"},\"id\":\"3067\",\"type\":\"BoxAnnotation\"},{\"attributes\":{\"coordinates\":null,\"formatter\":{\"id\":\"3290\"},\"group\":null,\"major_label_policy\":{\"id\":\"3291\"},\"ticker\":{\"id\":\"3089\"}},\"id\":\"3088\",\"type\":\"LinearAxis\"},{\"attributes\":{\"fill_color\":{\"field\":\"color\"},\"hatch_color\":{\"field\":\"color\"},\"line_color\":{\"field\":\"color\"},\"size\":{\"value\":5},\"x\":{\"field\":\"Attack\"},\"y\":{\"field\":\"Defense\"}},\"id\":\"3107\",\"type\":\"Circle\"},{\"attributes\":{\"tools\":[{\"id\":\"3061\"},{\"id\":\"3062\"},{\"id\":\"3063\"},{\"id\":\"3064\"},{\"id\":\"3065\"},{\"id\":\"3066\"},{\"id\":\"3118\"}]},\"id\":\"3068\",\"type\":\"Toolbar\"},{\"attributes\":{\"overlay\":{\"id\":\"3067\"}},\"id\":\"3063\",\"type\":\"BoxZoomTool\"},{\"attributes\":{\"coordinates\":null,\"formatter\":{\"id\":\"3293\"},\"group\":null,\"major_label_policy\":{\"id\":\"3294\"},\"ticker\":{\"id\":\"3085\"}},\"id\":\"3084\",\"type\":\"LinearAxis\"},{\"attributes\":{\"axis\":{\"id\":\"3084\"},\"coordinates\":null,\"group\":null,\"ticker\":null},\"id\":\"3087\",\"type\":\"Grid\"},{\"attributes\":{\"coordinates\":null,\"formatter\":{\"id\":\"3284\"},\"group\":null,\"major_label_policy\":{\"id\":\"3285\"},\"ticker\":{\"id\":\"3058\"}},\"id\":\"3057\",\"type\":\"LinearAxis\"},{\"attributes\":{\"axis\":{\"id\":\"3053\"},\"coordinates\":null,\"group\":null,\"ticker\":null},\"id\":\"3056\",\"type\":\"Grid\"},{\"attributes\":{\"below\":[{\"id\":\"3053\"}],\"center\":[{\"id\":\"3056\"},{\"id\":\"3060\"}],\"left\":[{\"id\":\"3057\"}],\"renderers\":[{\"id\":\"3110\"}],\"title\":{\"id\":\"3279\"},\"toolbar\":{\"id\":\"3068\"},\"x_range\":{\"id\":\"3045\"},\"x_scale\":{\"id\":\"3049\"},\"y_range\":{\"id\":\"3047\"},\"y_scale\":{\"id\":\"3051\"}},\"id\":\"3044\",\"subtype\":\"Figure\",\"type\":\"Plot\"},{\"attributes\":{\"tools\":[{\"id\":\"3092\"},{\"id\":\"3093\"},{\"id\":\"3094\"},{\"id\":\"3095\"},{\"id\":\"3096\"},{\"id\":\"3097\"},{\"id\":\"3119\"}]},\"id\":\"3099\",\"type\":\"Toolbar\"},{\"attributes\":{\"axis\":{\"id\":\"3057\"},\"coordinates\":null,\"dimension\":1,\"group\":null,\"ticker\":null},\"id\":\"3060\",\"type\":\"Grid\"},{\"attributes\":{},\"id\":\"3085\",\"type\":\"BasicTicker\"},{\"attributes\":{},\"id\":\"3082\",\"type\":\"LinearScale\"},{\"attributes\":{},\"id\":\"3062\",\"type\":\"WheelZoomTool\"},{\"attributes\":{\"coordinates\":null,\"group\":null},\"id\":\"3281\",\"type\":\"Title\"},{\"attributes\":{},\"id\":\"3061\",\"type\":\"PanTool\"}],\"root_ids\":[\"3124\"]},\"title\":\"Bokeh Application\",\"version\":\"2.4.3\"}};\n  const render_items = [{\"docid\":\"aae6c004-8f96-4a50-a69b-737faac50f87\",\"root_ids\":[\"3124\"],\"roots\":{\"3124\":\"7161ceb2-4d56-4969-a00e-9572d12185e3\"}}];\n  root.Bokeh.embed.embed_items_notebook(docs_json, render_items);\n  }\n  if (root.Bokeh !== undefined) {\n    embed_document(root);\n  } else {\n    let attempts = 0;\n    const timer = setInterval(function(root) {\n      if (root.Bokeh !== undefined) {\n        clearInterval(timer);\n        embed_document(root);\n      } else {\n        attempts++;\n        if (attempts > 100) {\n          clearInterval(timer);\n          console.log(\"Bokeh: ERROR: Unable to run BokehJS code because BokehJS library is missing\");\n        }\n      }\n    }, 10, root)\n  }\n})(window);",
      "application/vnd.bokehjs_exec.v0+json": ""
     },
     "metadata": {
      "application/vnd.bokehjs_exec.v0+json": {
       "id": "3124"
      }
     },
     "output_type": "display_data"
    }
   ],
   "source": [
    "from bokeh.models.widgets import Panel, Tabs\n",
    "from bokeh.models import ColumnDataSource\n",
    "from bokeh.models.tools import HoverTool\n",
    "\n",
    "# How to set up sources\n",
    "source_normal  = ColumnDataSource(df_some[df_some.Legendary == False])\n",
    "source_legendary  = ColumnDataSource(df_some[df_some.Legendary == True])\n",
    "\n",
    "# Define a figure\n",
    "normal = figure()\n",
    "legendary = figure()\n",
    "\n",
    "# Get Glyph Renderer\n",
    "render_normal = normal.circle(x = 'Attack',\n",
    "              y = 'Defense',\n",
    "              color = 'color',\n",
    "              size = 5,\n",
    "              source = source_normal)\n",
    "\n",
    "render_legendary = legendary.circle(x = 'Attack',\n",
    "              y = 'Defense',\n",
    "              color = 'color',\n",
    "              size = 5,\n",
    "              source = source_legendary)\n",
    "\n",
    "# Define tooltips for the hover\n",
    "tooltips = [(\"Name\", \"@Name\"),    # we display 'index' then the value found in the column 'indices' of the source\n",
    "            ('Attack', '@Attack'),\n",
    "            ('Defense', '@Defense')]\n",
    "\n",
    "# Instatiate the Hover Thingy\n",
    "hover_normal = HoverTool(tooltips = tooltips,    # list of tuples of information to display in the pop-up window\n",
    "                  renderers = [render_normal])\n",
    "\n",
    "hover_legendary = HoverTool(tooltips = tooltips,    # list of tuples of information to display in the pop-up window\n",
    "                  renderers = [render_legendary])\n",
    "\n",
    "# Add the hover tools to the gyphs\n",
    "normal.add_tools(hover_normal)\n",
    "legendary.add_tools(hover_legendary)\n",
    "\n",
    "# Create Panels with the respective Glyphs\n",
    "tab_normal = Panel(child = normal, title = 'Normal Pokemon')\n",
    "tab_legendary = Panel(child = legendary, title = 'Legendary Pokemon')\n",
    "\n",
    "# Create Tabs from Panels\n",
    "tabs = Tabs(tabs = [tab_normal, tab_legendary])\n",
    "\n",
    "show(tabs)"
   ]
  },
  {
   "cell_type": "code",
   "execution_count": 32,
   "metadata": {},
   "outputs": [
    {
     "name": "stderr",
     "output_type": "stream",
     "text": [
      "BokehDeprecationWarning: 'legend' keyword is deprecated, use explicit 'legend_label', 'legend_field', or 'legend_group' keywords instead\n"
     ]
    },
    {
     "data": {
      "text/html": [
       "\n",
       "  <div class=\"bk-root\" id=\"8e1f8cfa-44c7-4bac-82d5-fba9ffabd97f\" data-root-id=\"3414\"></div>\n"
      ]
     },
     "metadata": {},
     "output_type": "display_data"
    },
    {
     "data": {
      "application/javascript": "(function(root) {\n  function embed_document(root) {\n  const docs_json = {\"bfeea648-84e5-4ecd-9bb8-6deee5458006\":{\"defs\":[],\"roots\":{\"references\":[{\"attributes\":{\"below\":[{\"id\":\"3425\"}],\"center\":[{\"id\":\"3427\"},{\"id\":\"3431\"},{\"id\":\"3463\"}],\"left\":[{\"id\":\"3428\"}],\"renderers\":[{\"id\":\"3451\"}],\"title\":{\"id\":\"3415\"},\"toolbar\":{\"id\":\"3439\"},\"x_range\":{\"id\":\"3417\"},\"x_scale\":{\"id\":\"3421\"},\"y_range\":{\"id\":\"3419\"},\"y_scale\":{\"id\":\"3423\"}},\"id\":\"3414\",\"subtype\":\"Figure\",\"type\":\"Plot\"},{\"attributes\":{},\"id\":\"3456\",\"type\":\"AllLabels\"},{\"attributes\":{\"data\":{\"Type 1\":[\"Dark\",\"Electric\",\"Fire\",\"Grass\",\"Ice\",\"Rock\"],\"count\":[31,44,52,70,24,44],\"index\":[0,1,2,3,4,5]},\"selected\":{\"id\":\"3461\"},\"selection_policy\":{\"id\":\"3460\"}},\"id\":\"3412\",\"type\":\"ColumnDataSource\"},{\"attributes\":{},\"id\":\"3458\",\"type\":\"CategoricalTickFormatter\"},{\"attributes\":{},\"id\":\"3436\",\"type\":\"ResetTool\"},{\"attributes\":{},\"id\":\"3433\",\"type\":\"WheelZoomTool\"},{\"attributes\":{},\"id\":\"3459\",\"type\":\"AllLabels\"},{\"attributes\":{},\"id\":\"3435\",\"type\":\"SaveTool\"},{\"attributes\":{},\"id\":\"3432\",\"type\":\"PanTool\"},{\"attributes\":{\"tools\":[{\"id\":\"3432\"},{\"id\":\"3433\"},{\"id\":\"3434\"},{\"id\":\"3435\"},{\"id\":\"3436\"},{\"id\":\"3437\"},{\"id\":\"3465\"}]},\"id\":\"3439\",\"type\":\"Toolbar\"},{\"attributes\":{\"overlay\":{\"id\":\"3438\"}},\"id\":\"3434\",\"type\":\"BoxZoomTool\"},{\"attributes\":{\"coordinates\":null,\"formatter\":{\"id\":\"3458\"},\"group\":null,\"major_label_policy\":{\"id\":\"3459\"},\"ticker\":{\"id\":\"3426\"}},\"id\":\"3425\",\"type\":\"CategoricalAxis\"},{\"attributes\":{\"bottom_units\":\"screen\",\"coordinates\":null,\"fill_alpha\":0.5,\"fill_color\":\"lightgrey\",\"group\":null,\"left_units\":\"screen\",\"level\":\"overlay\",\"line_alpha\":1.0,\"line_color\":\"black\",\"line_dash\":[4,4],\"line_width\":2,\"right_units\":\"screen\",\"syncable\":false,\"top_units\":\"screen\"},\"id\":\"3438\",\"type\":\"BoxAnnotation\"},{\"attributes\":{},\"id\":\"3421\",\"type\":\"CategoricalScale\"},{\"attributes\":{\"factors\":[\"Grass\",\"Fire\",\"Electric\",\"Rock\",\"Ice\",\"Dark\"],\"palette\":[\"green\",\"darkorange\",\"yellow\",\"gray\",\"lightcyan\",\"darkorchid\"]},\"id\":\"3413\",\"type\":\"CategoricalColorMapper\"},{\"attributes\":{\"coordinates\":null,\"group\":null,\"items\":[{\"id\":\"3464\"}],\"location\":\"top_left\"},\"id\":\"3463\",\"type\":\"Legend\"},{\"attributes\":{},\"id\":\"3460\",\"type\":\"UnionRenderers\"},{\"attributes\":{\"fill_alpha\":{\"value\":0.2},\"fill_color\":{\"field\":\"Type 1\",\"transform\":{\"id\":\"3413\"}},\"hatch_alpha\":{\"value\":0.2},\"line_alpha\":{\"value\":0.2},\"line_color\":{\"field\":\"Type 1\",\"transform\":{\"id\":\"3413\"}},\"top\":{\"field\":\"count\"},\"width\":{\"value\":0.8},\"x\":{\"field\":\"Type 1\"}},\"id\":\"3450\",\"type\":\"VBar\"},{\"attributes\":{},\"id\":\"3461\",\"type\":\"Selection\"},{\"attributes\":{\"factors\":[\"Dark\",\"Electric\",\"Fire\",\"Grass\",\"Ice\",\"Rock\"]},\"id\":\"3417\",\"type\":\"FactorRange\"},{\"attributes\":{},\"id\":\"3437\",\"type\":\"HelpTool\"},{\"attributes\":{},\"id\":\"3419\",\"type\":\"DataRange1d\"},{\"attributes\":{\"callback\":null,\"tooltips\":[[\"count\",\"@count\"]]},\"id\":\"3465\",\"type\":\"HoverTool\"},{\"attributes\":{},\"id\":\"3426\",\"type\":\"CategoricalTicker\"},{\"attributes\":{\"axis\":{\"id\":\"3428\"},\"coordinates\":null,\"dimension\":1,\"group\":null,\"ticker\":null},\"id\":\"3431\",\"type\":\"Grid\"},{\"attributes\":{\"coordinates\":null,\"formatter\":{\"id\":\"3455\"},\"group\":null,\"major_label_policy\":{\"id\":\"3456\"},\"ticker\":{\"id\":\"3429\"}},\"id\":\"3428\",\"type\":\"LinearAxis\"},{\"attributes\":{},\"id\":\"3455\",\"type\":\"BasicTickFormatter\"},{\"attributes\":{},\"id\":\"3429\",\"type\":\"BasicTicker\"},{\"attributes\":{\"label\":{\"field\":\"Type 1\"},\"renderers\":[{\"id\":\"3451\"}]},\"id\":\"3464\",\"type\":\"LegendItem\"},{\"attributes\":{\"coordinates\":null,\"group\":null,\"text\":\"Count of Pokemons\"},\"id\":\"3415\",\"type\":\"Title\"},{\"attributes\":{},\"id\":\"3423\",\"type\":\"LinearScale\"},{\"attributes\":{\"fill_color\":{\"field\":\"Type 1\",\"transform\":{\"id\":\"3413\"}},\"line_color\":{\"field\":\"Type 1\",\"transform\":{\"id\":\"3413\"}},\"top\":{\"field\":\"count\"},\"width\":{\"value\":0.8},\"x\":{\"field\":\"Type 1\"}},\"id\":\"3447\",\"type\":\"VBar\"},{\"attributes\":{\"fill_color\":{\"field\":\"Type 1\",\"transform\":{\"id\":\"3413\"}},\"top\":{\"field\":\"count\"},\"width\":{\"value\":0.8},\"x\":{\"field\":\"Type 1\"}},\"id\":\"3449\",\"type\":\"VBar\"},{\"attributes\":{\"fill_alpha\":{\"value\":0.1},\"fill_color\":{\"field\":\"Type 1\",\"transform\":{\"id\":\"3413\"}},\"hatch_alpha\":{\"value\":0.1},\"line_alpha\":{\"value\":0.1},\"line_color\":{\"field\":\"Type 1\",\"transform\":{\"id\":\"3413\"}},\"top\":{\"field\":\"count\"},\"width\":{\"value\":0.8},\"x\":{\"field\":\"Type 1\"}},\"id\":\"3448\",\"type\":\"VBar\"},{\"attributes\":{\"source\":{\"id\":\"3412\"}},\"id\":\"3452\",\"type\":\"CDSView\"},{\"attributes\":{\"axis\":{\"id\":\"3425\"},\"coordinates\":null,\"group\":null,\"ticker\":null},\"id\":\"3427\",\"type\":\"Grid\"},{\"attributes\":{\"coordinates\":null,\"data_source\":{\"id\":\"3412\"},\"glyph\":{\"id\":\"3447\"},\"group\":null,\"hover_glyph\":{\"id\":\"3449\"},\"muted_glyph\":{\"id\":\"3450\"},\"nonselection_glyph\":{\"id\":\"3448\"},\"view\":{\"id\":\"3452\"}},\"id\":\"3451\",\"type\":\"GlyphRenderer\"}],\"root_ids\":[\"3414\"]},\"title\":\"Bokeh Application\",\"version\":\"2.4.3\"}};\n  const render_items = [{\"docid\":\"bfeea648-84e5-4ecd-9bb8-6deee5458006\",\"root_ids\":[\"3414\"],\"roots\":{\"3414\":\"8e1f8cfa-44c7-4bac-82d5-fba9ffabd97f\"}}];\n  root.Bokeh.embed.embed_items_notebook(docs_json, render_items);\n  }\n  if (root.Bokeh !== undefined) {\n    embed_document(root);\n  } else {\n    let attempts = 0;\n    const timer = setInterval(function(root) {\n      if (root.Bokeh !== undefined) {\n        clearInterval(timer);\n        embed_document(root);\n      } else {\n        attempts++;\n        if (attempts > 100) {\n          clearInterval(timer);\n          console.log(\"Bokeh: ERROR: Unable to run BokehJS code because BokehJS library is missing\");\n        }\n      }\n    }, 10, root)\n  }\n})(window);",
      "application/vnd.bokehjs_exec.v0+json": ""
     },
     "metadata": {
      "application/vnd.bokehjs_exec.v0+json": {
       "id": "3414"
      }
     },
     "output_type": "display_data"
    }
   ],
   "source": [
    "from bokeh.transform import factor_cmap\n",
    "\n",
    "count_type = pd.DataFrame(df_some.groupby('Type 1').size()).reset_index().rename(columns={0: \"count\"})\n",
    "\n",
    "source  = ColumnDataSource(count_type)\n",
    "\n",
    "Type_cmap = factor_cmap('Type 1', palette=df_some['color'].unique(), factors=df_some['Type 1'].unique())\n",
    "p = figure(x_range = count_type['Type 1'], title = 'Count of Pokemons')\n",
    "p.vbar(x='Type 1', top='count', width=0.8, source=source,line_color=Type_cmap, fill_color=Type_cmap,legend='Type 1',\n",
    "       hover_line_color=\"black\")\n",
    "p.add_tools(HoverTool(tooltips=[(\"count\", \"@count\")]))\n",
    "\n",
    "p.legend.location=\"top_left\"\n",
    "show(p)\n"
   ]
  }
 ],
 "metadata": {
  "kernelspec": {
   "display_name": "base",
   "language": "python",
   "name": "python3"
  },
  "language_info": {
   "codemirror_mode": {
    "name": "ipython",
    "version": 3
   },
   "file_extension": ".py",
   "mimetype": "text/x-python",
   "name": "python",
   "nbconvert_exporter": "python",
   "pygments_lexer": "ipython3",
   "version": "3.9.13"
  },
  "orig_nbformat": 4
 },
 "nbformat": 4,
 "nbformat_minor": 2
}
