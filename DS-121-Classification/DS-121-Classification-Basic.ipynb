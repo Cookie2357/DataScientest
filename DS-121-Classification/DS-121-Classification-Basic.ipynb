{
 "cells": [
  {
   "attachments": {},
   "cell_type": "markdown",
   "metadata": {},
   "source": [
    "Theory:\n",
    "\n",
    "In this modul we will learn about scikit-learn. In particular about classification. One of the two main tasks of ML. \n",
    "\n",
    "Most Classification algorithms are making binary decisions. For multivalue classification we have two strategies 1v1 or 1vAll.\n",
    "\n",
    "The Object of prediction is called the 'label' the inputs are called 'features'"
   ]
  },
  {
   "cell_type": "code",
   "execution_count": 1,
   "metadata": {},
   "outputs": [
    {
     "data": {
      "text/html": [
       "<div>\n",
       "<style scoped>\n",
       "    .dataframe tbody tr th:only-of-type {\n",
       "        vertical-align: middle;\n",
       "    }\n",
       "\n",
       "    .dataframe tbody tr th {\n",
       "        vertical-align: top;\n",
       "    }\n",
       "\n",
       "    .dataframe thead th {\n",
       "        text-align: right;\n",
       "    }\n",
       "</style>\n",
       "<table border=\"1\" class=\"dataframe\">\n",
       "  <thead>\n",
       "    <tr style=\"text-align: right;\">\n",
       "      <th></th>\n",
       "      <th>admit</th>\n",
       "      <th>gre</th>\n",
       "      <th>gpa</th>\n",
       "      <th>rank</th>\n",
       "    </tr>\n",
       "  </thead>\n",
       "  <tbody>\n",
       "    <tr>\n",
       "      <th>0</th>\n",
       "      <td>0.0</td>\n",
       "      <td>380.0</td>\n",
       "      <td>3.61</td>\n",
       "      <td>3.0</td>\n",
       "    </tr>\n",
       "    <tr>\n",
       "      <th>1</th>\n",
       "      <td>1.0</td>\n",
       "      <td>660.0</td>\n",
       "      <td>3.67</td>\n",
       "      <td>3.0</td>\n",
       "    </tr>\n",
       "    <tr>\n",
       "      <th>2</th>\n",
       "      <td>1.0</td>\n",
       "      <td>800.0</td>\n",
       "      <td>4.00</td>\n",
       "      <td>1.0</td>\n",
       "    </tr>\n",
       "    <tr>\n",
       "      <th>3</th>\n",
       "      <td>1.0</td>\n",
       "      <td>640.0</td>\n",
       "      <td>3.19</td>\n",
       "      <td>4.0</td>\n",
       "    </tr>\n",
       "    <tr>\n",
       "      <th>4</th>\n",
       "      <td>0.0</td>\n",
       "      <td>520.0</td>\n",
       "      <td>2.93</td>\n",
       "      <td>4.0</td>\n",
       "    </tr>\n",
       "  </tbody>\n",
       "</table>\n",
       "</div>"
      ],
      "text/plain": [
       "   admit    gre   gpa  rank\n",
       "0    0.0  380.0  3.61   3.0\n",
       "1    1.0  660.0  3.67   3.0\n",
       "2    1.0  800.0  4.00   1.0\n",
       "3    1.0  640.0  3.19   4.0\n",
       "4    0.0  520.0  2.93   4.0"
      ]
     },
     "execution_count": 1,
     "metadata": {},
     "output_type": "execute_result"
    }
   ],
   "source": [
    "from sklearn import linear_model, preprocessing\n",
    "from sklearn.model_selection import train_test_split\n",
    "\n",
    "import pandas as pd\n",
    "import numpy as np\n",
    "\n",
    "df = pd.read_csv('source/admission.csv')\n",
    "\n",
    "df.head()\n"
   ]
  },
  {
   "cell_type": "code",
   "execution_count": 2,
   "metadata": {},
   "outputs": [],
   "source": [
    "''' Preprocessing '''\n",
    "# Remove ne values\n",
    "df = df.dropna()\n",
    "\n",
    "# Batch continous values\n",
    "test_gre = pd.cut(df.gre,\n",
    "                  bins = [200, 450, 550, 620, 800],\n",
    "                  labels = ['bad', 'average', 'average+', 'good'])\n",
    "student_levels = pd.cut(x = df['gpa'],\n",
    "                       bins = [2, 2.8, 3.2, 3.6, 4],\n",
    "                       labels= ['bad', 'average', 'average+', 'good'])\n",
    "\n",
    "# One-hot-encoding of qualitative variables\n",
    "# Necessary for linear MLAs\n",
    "dummie_gre = pd.get_dummies(test_gre, prefix = 'gre')\n",
    "dummie_level = pd.get_dummies(student_levels, prefix = 'level')\n",
    "dummie_ran = pd.get_dummies(df['rank'], prefix='ran')\n",
    "\n",
    "# Join of encoding\n",
    "df = df.join(dummie_gre)\n",
    "df = df.join(dummie_level)\n",
    "df = df.join(dummie_ran)"
   ]
  },
  {
   "cell_type": "code",
   "execution_count": 3,
   "metadata": {},
   "outputs": [
    {
     "name": "stdout",
     "output_type": "stream",
     "text": [
      "<class 'pandas.core.frame.DataFrame'>\n",
      "RangeIndex: 400 entries, 0 to 399\n",
      "Data columns (total 16 columns):\n",
      " #   Column          Non-Null Count  Dtype  \n",
      "---  ------          --------------  -----  \n",
      " 0   admit           400 non-null    float64\n",
      " 1   gre             400 non-null    float64\n",
      " 2   gpa             400 non-null    float64\n",
      " 3   rank            400 non-null    float64\n",
      " 4   gre_bad         400 non-null    uint8  \n",
      " 5   gre_average     400 non-null    uint8  \n",
      " 6   gre_average+    400 non-null    uint8  \n",
      " 7   gre_good        400 non-null    uint8  \n",
      " 8   level_bad       400 non-null    uint8  \n",
      " 9   level_average   400 non-null    uint8  \n",
      " 10  level_average+  400 non-null    uint8  \n",
      " 11  level_good      400 non-null    uint8  \n",
      " 12  ran_1.0         400 non-null    uint8  \n",
      " 13  ran_2.0         400 non-null    uint8  \n",
      " 14  ran_3.0         400 non-null    uint8  \n",
      " 15  ran_4.0         400 non-null    uint8  \n",
      "dtypes: float64(4), uint8(12)\n",
      "memory usage: 17.3 KB\n"
     ]
    }
   ],
   "source": [
    "df.info()"
   ]
  },
  {
   "cell_type": "code",
   "execution_count": 4,
   "metadata": {},
   "outputs": [
    {
     "name": "stdout",
     "output_type": "stream",
     "text": [
      "              precision    recall  f1-score   support\n",
      "\n",
      "         0.0       0.81      0.92      0.86        60\n",
      "         1.0       0.58      0.35      0.44        20\n",
      "\n",
      "    accuracy                           0.78        80\n",
      "   macro avg       0.70      0.63      0.65        80\n",
      "weighted avg       0.75      0.78      0.75        80\n",
      "\n"
     ]
    }
   ],
   "source": [
    "\"\"\" Machine Learning \"\"\"\n",
    "\"\"\" Logistic regression \n",
    "- A linear statistical model \n",
    "- TODO: Get more information about logictsi regression\n",
    "\"\"\"\n",
    "# Data and target split. Do not include all data at first\n",
    "data = df.iloc[:,4:13]\n",
    "target = df.admit\n",
    "\n",
    "# Train test split. \n",
    "X_train, X_test, y_train, y_test = train_test_split(data, target, test_size = 0.2, random_state = 66)\n",
    "\n",
    "# Where does clf come from? \n",
    "# C is the inverse of the regularization paramter\n",
    "# Optimization algorithms in LLR\n",
    "# L_BFGS (Limit_memory BFGS) ?\n",
    "# SAG (Stochastic Average Gradient) ?\n",
    "# Newton_cg (Newton Conjugate Gradient)?\n",
    "clf = linear_model.LogisticRegression(C=1.0)\n",
    "clf.fit(X_train, y_train)\n",
    "\n",
    "# Prediction based on training\n",
    "y_pred = clf.predict(X_test)\n",
    "\n",
    "\"\"\" Evaluation \"\"\"\n",
    "# Display of prediction\n",
    "cm = pd.crosstab(y_test, y_pred, rownames=['Classe réelle'], colnames=['Classe prédite'])\n",
    "cm\n",
    "\n",
    "# Gives the accuracy : TP + TN / population size\n",
    "clf.score(X_test, y_test)\n",
    "\n",
    "# Precision - Positve predictive value: TP / positive predicted\n",
    "# Should be used when working with data where a lot of negative samples exist (Rare disease)\n",
    "\n",
    "# Recall\n",
    "# Of positive class : Sensitivity ~ true positive rate: TP / positive actual\n",
    "# of negative class : specificity ~ true negative rate: TN / negative actual\n",
    "\n",
    "#fscore - harmonic mean of recall and precision TODO: Read\n",
    "\n",
    "from sklearn.metrics import classification_report\n",
    "\n",
    "print(classification_report(y_test, y_pred))"
   ]
  },
  {
   "attachments": {},
   "cell_type": "markdown",
   "metadata": {},
   "source": [
    "![Elaborate Confusion Matrix](Confusion.png)"
   ]
  },
  {
   "cell_type": "code",
   "execution_count": 5,
   "metadata": {},
   "outputs": [
    {
     "data": {
      "text/html": [
       "<div>\n",
       "<style scoped>\n",
       "    .dataframe tbody tr th:only-of-type {\n",
       "        vertical-align: middle;\n",
       "    }\n",
       "\n",
       "    .dataframe tbody tr th {\n",
       "        vertical-align: top;\n",
       "    }\n",
       "\n",
       "    .dataframe thead th {\n",
       "        text-align: right;\n",
       "    }\n",
       "</style>\n",
       "<table border=\"1\" class=\"dataframe\">\n",
       "  <thead>\n",
       "    <tr style=\"text-align: right;\">\n",
       "      <th>Classe prédite</th>\n",
       "      <th>0</th>\n",
       "      <th>1</th>\n",
       "    </tr>\n",
       "    <tr>\n",
       "      <th>Classe réelle</th>\n",
       "      <th></th>\n",
       "      <th></th>\n",
       "    </tr>\n",
       "  </thead>\n",
       "  <tbody>\n",
       "    <tr>\n",
       "      <th>0.0</th>\n",
       "      <td>47</td>\n",
       "      <td>13</td>\n",
       "    </tr>\n",
       "    <tr>\n",
       "      <th>1.0</th>\n",
       "      <td>10</td>\n",
       "      <td>10</td>\n",
       "    </tr>\n",
       "  </tbody>\n",
       "</table>\n",
       "</div>"
      ],
      "text/plain": [
       "Classe prédite   0   1\n",
       "Classe réelle         \n",
       "0.0             47  13\n",
       "1.0             10  10"
      ]
     },
     "execution_count": 5,
     "metadata": {},
     "output_type": "execute_result"
    }
   ],
   "source": [
    "\"\"\" Alternative with different prediction probabilities \"\"\"\n",
    "probs = clf.predict_proba(X_test)\n",
    "\n",
    "y_preds = np.where(probs[:,1]>0.4,1,0)\n",
    "\n",
    "cm = pd.crosstab(y_test, y_preds, rownames=['Classe réelle'], colnames=['Classe prédite'])\n",
    "cm"
   ]
  },
  {
   "cell_type": "code",
   "execution_count": 6,
   "metadata": {},
   "outputs": [
    {
     "data": {
      "text/plain": [
       "0.725"
      ]
     },
     "execution_count": 6,
     "metadata": {},
     "output_type": "execute_result"
    }
   ],
   "source": [
    "\"\"\" Logistic regression - ROC Curve \n",
    "The ROC curve maps for every threshold of the logistic regression (1 - specificity) on the x_axis against sensitivity on the y axis.\n",
    "The threshold that is closest to (1, 0) -> sensitivity = specificity = 1\n",
    "\n",
    "The AUC (Area under the curve) of an ROC Curve tells us the quality of the model. \n",
    "Hence if we have a k-nearest neighborhood and a logistic regression roc curve and the former one has AUC 0.8 while the later one has 0.7 \n",
    "then k-nearest neighborhood is able to better classify the data. \n",
    "\"\"\"\n",
    "from sklearn.metrics import roc_curve, auc\n",
    "\n",
    "fpr, tpr, thresholds = roc_curve(y_test, probs[:, 1], pos_label = 1)\n",
    "auc(fpr, tpr)\n"
   ]
  },
  {
   "cell_type": "code",
   "execution_count": 9,
   "metadata": {},
   "outputs": [
    {
     "data": {
      "image/png": "[encoded data removed]",
      "text/plain": [
       "<Figure size 640x480 with 1 Axes>"
      ]
     },
     "metadata": {},
     "output_type": "display_data"
    }
   ],
   "source": [
    "import matplotlib.pyplot as plt\n",
    "\n",
    "line = np.arange(0, 1.05, 0.05)\n",
    "plt.axis([0, 1, 0, 1])\n",
    "\n",
    "plt.plot(fpr, tpr, color = 'orange', label = 'clf label')\n",
    "plt.plot(line, line, color = 'blue', linestyle = '--', label = 'random')\n",
    "\n",
    "plt.xlabel('1 - specificity')\n",
    "plt.ylabel('sensitivity')\n",
    "plt.title('ROC Curve for logistic regression')\n",
    "plt.legend(loc = 'best');\n",
    "\n"
   ]
  }
 ],
 "metadata": {
  "kernelspec": {
   "display_name": "base",
   "language": "python",
   "name": "python3"
  },
  "language_info": {
   "codemirror_mode": {
    "name": "ipython",
    "version": 3
   },
   "file_extension": ".py",
   "mimetype": "text/x-python",
   "name": "python",
   "nbconvert_exporter": "python",
   "pygments_lexer": "ipython3",
   "version": "3.9.13"
  },
  "orig_nbformat": 4
 },
 "nbformat": 4,
 "nbformat_minor": 2
}
